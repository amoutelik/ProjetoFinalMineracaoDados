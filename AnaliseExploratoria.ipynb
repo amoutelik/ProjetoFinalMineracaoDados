{
  "nbformat": 4,
  "nbformat_minor": 0,
  "metadata": {
    "colab": {
      "provenance": []
    },
    "kernelspec": {
      "name": "python3",
      "display_name": "Python 3"
    },
    "language_info": {
      "name": "python"
    }
  },
  "cells": [
    {
      "cell_type": "markdown",
      "source": [
        "## Swarm Behaviour Data\n",
        "Projeto Final da disciplina de Soluções em Mineração de Dados\n",
        "\n",
        "Aluno: Andrey Moutelik (arma2)"
      ],
      "metadata": {
        "id": "5hQ0_Oo4E0e_"
      }
    },
    {
      "cell_type": "markdown",
      "source": [
        "Importando o dataset e as bibliotecas necessárias"
      ],
      "metadata": {
        "id": "MP_r2ao6yvSy"
      }
    },
    {
      "cell_type": "code",
      "source": [
        "!wget https://archive.ics.uci.edu/ml/machine-learning-databases/00524/Swarm%20Behavior%20Data.zip"
      ],
      "metadata": {
        "colab": {
          "base_uri": "https://localhost:8080/"
        },
        "id": "KX6qzpv-vbJb",
        "outputId": "678a6cdb-0504-45ef-ee17-0b038ff3222e"
      },
      "execution_count": null,
      "outputs": [
        {
          "output_type": "stream",
          "name": "stdout",
          "text": [
            "--2023-04-10 17:10:32--  https://archive.ics.uci.edu/ml/machine-learning-databases/00524/Swarm%20Behavior%20Data.zip\n",
            "Resolving archive.ics.uci.edu (archive.ics.uci.edu)... 128.195.10.252\n",
            "Connecting to archive.ics.uci.edu (archive.ics.uci.edu)|128.195.10.252|:443... connected.\n",
            "HTTP request sent, awaiting response... 200 OK\n",
            "Length: 222915673 (213M) [application/x-httpd-php]\n",
            "Saving to: ‘Swarm Behavior Data.zip’\n",
            "\n",
            "Swarm Behavior Data 100%[===================>] 212.59M  19.0MB/s    in 12s     \n",
            "\n",
            "2023-04-10 17:10:45 (17.2 MB/s) - ‘Swarm Behavior Data.zip’ saved [222915673/222915673]\n",
            "\n"
          ]
        }
      ]
    },
    {
      "cell_type": "code",
      "source": [
        "import numpy as np \n",
        "import pandas as pd\n",
        "import seaborn as sns\n",
        "import matplotlib.pyplot as plt"
      ],
      "metadata": {
        "id": "9uk-1IgKKqC6"
      },
      "execution_count": 29,
      "outputs": []
    },
    {
      "cell_type": "code",
      "execution_count": null,
      "metadata": {
        "colab": {
          "base_uri": "https://localhost:8080/"
        },
        "id": "SGKM_QNEqujo",
        "outputId": "5be19cb4-fc71-4b3f-cee8-84ed5058819a"
      },
      "outputs": [
        {
          "output_type": "stream",
          "name": "stdout",
          "text": [
            "Done\n"
          ]
        }
      ],
      "source": [
        "from zipfile import ZipFile\n",
        "file_name = \"Swarm Behavior Data.zip\"\n",
        "with ZipFile(file_name,'r') as zip:\n",
        "  zip.extractall()\n",
        "  print('Done')"
      ]
    },
    {
      "cell_type": "markdown",
      "source": [
        "Descrição das features:\n",
        "\n",
        "xm e ym são a posição (X,Y) de cada boid;\n",
        "\n",
        "xVeln e yVeln são o vetor de velocidade;\n",
        "\n",
        "xAm e yAm são o vetor de alinhamento;\n",
        "\n",
        "xSm e ySm são o vetor de separação;\n",
        "\n",
        "xCm e yCm são o vetor de coesão;\n",
        "\n",
        "nACm é o número de boids em um raio de Alinhamento/Coesão;\n",
        "\n",
        "nSm é o número de boids no raio de Separação.\n",
        "\n",
        "Esses atributos são repetidos para todos os m boids, onde m = 1,...,200. (12*200 = 2 400)\n",
        "\n",
        "Resultando em *2400 FEATURES*\n"
      ],
      "metadata": {
        "id": "gYa3XbDlIWHu"
      }
    },
    {
      "cell_type": "code",
      "source": [
        "df_Aligned = pd.read_csv(\"/content/Swarm Behavior Data/Aligned.csv\", low_memory= False)\n",
        "df_Flocking = pd.read_csv(\"/content/Swarm Behavior Data/Flocking.csv\", low_memory= False)\n",
        "df_Grouped = pd.read_csv(\"/content/Swarm Behavior Data/Grouped.csv\", low_memory= False)"
      ],
      "metadata": {
        "colab": {
          "base_uri": "https://localhost:8080/",
          "height": 487
        },
        "id": "Poon_YvOKAMD",
        "outputId": "1ea1c680-8d34-46fb-e42e-8ba5c98cfbcd"
      },
      "execution_count": 45,
      "outputs": [
        {
          "output_type": "execute_result",
          "data": {
            "text/plain": [
              "            x1      y1  xVel1  yVel1   xA1   yA1     xS1     yS1   xC1   yC1  \\\n",
              "0     -1414.14 -535.22 -17.88  -7.23  0.00  0.00    0.00    0.00  0.00  0.00   \n",
              "1     -1412.93  597.54 -13.55  -5.48  0.00  0.00    0.00    0.00  0.00  0.00   \n",
              "2     -1407.38   70.72 -14.37  -5.81  0.00  0.00    0.00    0.00  0.00  0.00   \n",
              "3     -1407.00 -759.80  -7.59  -1.27 -0.98 -0.20    0.00    0.00  0.91  0.41   \n",
              "4     -1406.36  698.39 -16.54  -6.95 -1.00  0.00 -944.07 -396.62  0.00  0.00   \n",
              "...        ...     ...    ...    ...   ...   ...     ...     ...   ...   ...   \n",
              "24011  1403.71  948.55   4.54  -6.29  0.00  0.00    0.00    0.00 -0.13 -0.29   \n",
              "24012  1403.72  133.09   9.46  14.33  0.00  1.00    0.00    0.00  0.00  0.00   \n",
              "24013  1404.38  144.31   6.98   3.89  0.00  0.00    0.00    0.00  0.00  0.00   \n",
              "24014  1404.61 -315.55   6.50   4.27  0.00  0.00    0.00    0.00  0.00  0.00   \n",
              "24015  1406.08 -354.52  10.00   1.18  0.00 -0.01    0.00    0.00  0.31  0.07   \n",
              "\n",
              "       ...  yVel200  xA200  yA200  xS200  yS200  xC200  yC200  nAC200  nS200  \\\n",
              "0      ...   -16.85    0.0   0.00   0.00   0.00   0.00   0.00      29      0   \n",
              "1      ...   -12.09    0.0   0.00   0.00   0.00   0.00   0.00      44      0   \n",
              "2      ...   -16.20    0.0   0.00   0.00   0.00   0.00   0.00      40      0   \n",
              "3      ...     2.99   -1.0  -0.07   0.00   0.00  -0.52   0.86       3      0   \n",
              "4      ...   -12.61    0.0  -1.00   0.00   0.00   0.00   0.00      13      0   \n",
              "...    ...      ...    ...    ...    ...    ...    ...    ...     ...    ...   \n",
              "24011  ...    -4.87    0.0   0.00   0.00   0.00  -0.26  -0.18      11      0   \n",
              "24012  ...     5.20    0.0   1.00  -0.10  -3.24   0.00   0.00      29      0   \n",
              "24013  ...     9.50    0.0   0.00  -0.85  -0.52   0.00   0.00       5      1   \n",
              "24014  ...    -0.75    0.0   0.00   0.00   0.00   0.00   0.00       1      0   \n",
              "24015  ...    -1.13    0.0   0.00   0.00   0.00  -0.31  -0.08       0      0   \n",
              "\n",
              "       Class  \n",
              "0          0  \n",
              "1          0  \n",
              "2          0  \n",
              "3          1  \n",
              "4          0  \n",
              "...      ...  \n",
              "24011      0  \n",
              "24012      0  \n",
              "24013      0  \n",
              "24014      0  \n",
              "24015      0  \n",
              "\n",
              "[24016 rows x 2401 columns]"
            ],
            "text/html": [
              "\n",
              "  <div id=\"df-676490d4-54d8-4218-8886-5a5e20d5f5dc\">\n",
              "    <div class=\"colab-df-container\">\n",
              "      <div>\n",
              "<style scoped>\n",
              "    .dataframe tbody tr th:only-of-type {\n",
              "        vertical-align: middle;\n",
              "    }\n",
              "\n",
              "    .dataframe tbody tr th {\n",
              "        vertical-align: top;\n",
              "    }\n",
              "\n",
              "    .dataframe thead th {\n",
              "        text-align: right;\n",
              "    }\n",
              "</style>\n",
              "<table border=\"1\" class=\"dataframe\">\n",
              "  <thead>\n",
              "    <tr style=\"text-align: right;\">\n",
              "      <th></th>\n",
              "      <th>x1</th>\n",
              "      <th>y1</th>\n",
              "      <th>xVel1</th>\n",
              "      <th>yVel1</th>\n",
              "      <th>xA1</th>\n",
              "      <th>yA1</th>\n",
              "      <th>xS1</th>\n",
              "      <th>yS1</th>\n",
              "      <th>xC1</th>\n",
              "      <th>yC1</th>\n",
              "      <th>...</th>\n",
              "      <th>yVel200</th>\n",
              "      <th>xA200</th>\n",
              "      <th>yA200</th>\n",
              "      <th>xS200</th>\n",
              "      <th>yS200</th>\n",
              "      <th>xC200</th>\n",
              "      <th>yC200</th>\n",
              "      <th>nAC200</th>\n",
              "      <th>nS200</th>\n",
              "      <th>Class</th>\n",
              "    </tr>\n",
              "  </thead>\n",
              "  <tbody>\n",
              "    <tr>\n",
              "      <th>0</th>\n",
              "      <td>-1414.14</td>\n",
              "      <td>-535.22</td>\n",
              "      <td>-17.88</td>\n",
              "      <td>-7.23</td>\n",
              "      <td>0.00</td>\n",
              "      <td>0.00</td>\n",
              "      <td>0.00</td>\n",
              "      <td>0.00</td>\n",
              "      <td>0.00</td>\n",
              "      <td>0.00</td>\n",
              "      <td>...</td>\n",
              "      <td>-16.85</td>\n",
              "      <td>0.0</td>\n",
              "      <td>0.00</td>\n",
              "      <td>0.00</td>\n",
              "      <td>0.00</td>\n",
              "      <td>0.00</td>\n",
              "      <td>0.00</td>\n",
              "      <td>29</td>\n",
              "      <td>0</td>\n",
              "      <td>0</td>\n",
              "    </tr>\n",
              "    <tr>\n",
              "      <th>1</th>\n",
              "      <td>-1412.93</td>\n",
              "      <td>597.54</td>\n",
              "      <td>-13.55</td>\n",
              "      <td>-5.48</td>\n",
              "      <td>0.00</td>\n",
              "      <td>0.00</td>\n",
              "      <td>0.00</td>\n",
              "      <td>0.00</td>\n",
              "      <td>0.00</td>\n",
              "      <td>0.00</td>\n",
              "      <td>...</td>\n",
              "      <td>-12.09</td>\n",
              "      <td>0.0</td>\n",
              "      <td>0.00</td>\n",
              "      <td>0.00</td>\n",
              "      <td>0.00</td>\n",
              "      <td>0.00</td>\n",
              "      <td>0.00</td>\n",
              "      <td>44</td>\n",
              "      <td>0</td>\n",
              "      <td>0</td>\n",
              "    </tr>\n",
              "    <tr>\n",
              "      <th>2</th>\n",
              "      <td>-1407.38</td>\n",
              "      <td>70.72</td>\n",
              "      <td>-14.37</td>\n",
              "      <td>-5.81</td>\n",
              "      <td>0.00</td>\n",
              "      <td>0.00</td>\n",
              "      <td>0.00</td>\n",
              "      <td>0.00</td>\n",
              "      <td>0.00</td>\n",
              "      <td>0.00</td>\n",
              "      <td>...</td>\n",
              "      <td>-16.20</td>\n",
              "      <td>0.0</td>\n",
              "      <td>0.00</td>\n",
              "      <td>0.00</td>\n",
              "      <td>0.00</td>\n",
              "      <td>0.00</td>\n",
              "      <td>0.00</td>\n",
              "      <td>40</td>\n",
              "      <td>0</td>\n",
              "      <td>0</td>\n",
              "    </tr>\n",
              "    <tr>\n",
              "      <th>3</th>\n",
              "      <td>-1407.00</td>\n",
              "      <td>-759.80</td>\n",
              "      <td>-7.59</td>\n",
              "      <td>-1.27</td>\n",
              "      <td>-0.98</td>\n",
              "      <td>-0.20</td>\n",
              "      <td>0.00</td>\n",
              "      <td>0.00</td>\n",
              "      <td>0.91</td>\n",
              "      <td>0.41</td>\n",
              "      <td>...</td>\n",
              "      <td>2.99</td>\n",
              "      <td>-1.0</td>\n",
              "      <td>-0.07</td>\n",
              "      <td>0.00</td>\n",
              "      <td>0.00</td>\n",
              "      <td>-0.52</td>\n",
              "      <td>0.86</td>\n",
              "      <td>3</td>\n",
              "      <td>0</td>\n",
              "      <td>1</td>\n",
              "    </tr>\n",
              "    <tr>\n",
              "      <th>4</th>\n",
              "      <td>-1406.36</td>\n",
              "      <td>698.39</td>\n",
              "      <td>-16.54</td>\n",
              "      <td>-6.95</td>\n",
              "      <td>-1.00</td>\n",
              "      <td>0.00</td>\n",
              "      <td>-944.07</td>\n",
              "      <td>-396.62</td>\n",
              "      <td>0.00</td>\n",
              "      <td>0.00</td>\n",
              "      <td>...</td>\n",
              "      <td>-12.61</td>\n",
              "      <td>0.0</td>\n",
              "      <td>-1.00</td>\n",
              "      <td>0.00</td>\n",
              "      <td>0.00</td>\n",
              "      <td>0.00</td>\n",
              "      <td>0.00</td>\n",
              "      <td>13</td>\n",
              "      <td>0</td>\n",
              "      <td>0</td>\n",
              "    </tr>\n",
              "    <tr>\n",
              "      <th>...</th>\n",
              "      <td>...</td>\n",
              "      <td>...</td>\n",
              "      <td>...</td>\n",
              "      <td>...</td>\n",
              "      <td>...</td>\n",
              "      <td>...</td>\n",
              "      <td>...</td>\n",
              "      <td>...</td>\n",
              "      <td>...</td>\n",
              "      <td>...</td>\n",
              "      <td>...</td>\n",
              "      <td>...</td>\n",
              "      <td>...</td>\n",
              "      <td>...</td>\n",
              "      <td>...</td>\n",
              "      <td>...</td>\n",
              "      <td>...</td>\n",
              "      <td>...</td>\n",
              "      <td>...</td>\n",
              "      <td>...</td>\n",
              "      <td>...</td>\n",
              "    </tr>\n",
              "    <tr>\n",
              "      <th>24011</th>\n",
              "      <td>1403.71</td>\n",
              "      <td>948.55</td>\n",
              "      <td>4.54</td>\n",
              "      <td>-6.29</td>\n",
              "      <td>0.00</td>\n",
              "      <td>0.00</td>\n",
              "      <td>0.00</td>\n",
              "      <td>0.00</td>\n",
              "      <td>-0.13</td>\n",
              "      <td>-0.29</td>\n",
              "      <td>...</td>\n",
              "      <td>-4.87</td>\n",
              "      <td>0.0</td>\n",
              "      <td>0.00</td>\n",
              "      <td>0.00</td>\n",
              "      <td>0.00</td>\n",
              "      <td>-0.26</td>\n",
              "      <td>-0.18</td>\n",
              "      <td>11</td>\n",
              "      <td>0</td>\n",
              "      <td>0</td>\n",
              "    </tr>\n",
              "    <tr>\n",
              "      <th>24012</th>\n",
              "      <td>1403.72</td>\n",
              "      <td>133.09</td>\n",
              "      <td>9.46</td>\n",
              "      <td>14.33</td>\n",
              "      <td>0.00</td>\n",
              "      <td>1.00</td>\n",
              "      <td>0.00</td>\n",
              "      <td>0.00</td>\n",
              "      <td>0.00</td>\n",
              "      <td>0.00</td>\n",
              "      <td>...</td>\n",
              "      <td>5.20</td>\n",
              "      <td>0.0</td>\n",
              "      <td>1.00</td>\n",
              "      <td>-0.10</td>\n",
              "      <td>-3.24</td>\n",
              "      <td>0.00</td>\n",
              "      <td>0.00</td>\n",
              "      <td>29</td>\n",
              "      <td>0</td>\n",
              "      <td>0</td>\n",
              "    </tr>\n",
              "    <tr>\n",
              "      <th>24013</th>\n",
              "      <td>1404.38</td>\n",
              "      <td>144.31</td>\n",
              "      <td>6.98</td>\n",
              "      <td>3.89</td>\n",
              "      <td>0.00</td>\n",
              "      <td>0.00</td>\n",
              "      <td>0.00</td>\n",
              "      <td>0.00</td>\n",
              "      <td>0.00</td>\n",
              "      <td>0.00</td>\n",
              "      <td>...</td>\n",
              "      <td>9.50</td>\n",
              "      <td>0.0</td>\n",
              "      <td>0.00</td>\n",
              "      <td>-0.85</td>\n",
              "      <td>-0.52</td>\n",
              "      <td>0.00</td>\n",
              "      <td>0.00</td>\n",
              "      <td>5</td>\n",
              "      <td>1</td>\n",
              "      <td>0</td>\n",
              "    </tr>\n",
              "    <tr>\n",
              "      <th>24014</th>\n",
              "      <td>1404.61</td>\n",
              "      <td>-315.55</td>\n",
              "      <td>6.50</td>\n",
              "      <td>4.27</td>\n",
              "      <td>0.00</td>\n",
              "      <td>0.00</td>\n",
              "      <td>0.00</td>\n",
              "      <td>0.00</td>\n",
              "      <td>0.00</td>\n",
              "      <td>0.00</td>\n",
              "      <td>...</td>\n",
              "      <td>-0.75</td>\n",
              "      <td>0.0</td>\n",
              "      <td>0.00</td>\n",
              "      <td>0.00</td>\n",
              "      <td>0.00</td>\n",
              "      <td>0.00</td>\n",
              "      <td>0.00</td>\n",
              "      <td>1</td>\n",
              "      <td>0</td>\n",
              "      <td>0</td>\n",
              "    </tr>\n",
              "    <tr>\n",
              "      <th>24015</th>\n",
              "      <td>1406.08</td>\n",
              "      <td>-354.52</td>\n",
              "      <td>10.00</td>\n",
              "      <td>1.18</td>\n",
              "      <td>0.00</td>\n",
              "      <td>-0.01</td>\n",
              "      <td>0.00</td>\n",
              "      <td>0.00</td>\n",
              "      <td>0.31</td>\n",
              "      <td>0.07</td>\n",
              "      <td>...</td>\n",
              "      <td>-1.13</td>\n",
              "      <td>0.0</td>\n",
              "      <td>0.00</td>\n",
              "      <td>0.00</td>\n",
              "      <td>0.00</td>\n",
              "      <td>-0.31</td>\n",
              "      <td>-0.08</td>\n",
              "      <td>0</td>\n",
              "      <td>0</td>\n",
              "      <td>0</td>\n",
              "    </tr>\n",
              "  </tbody>\n",
              "</table>\n",
              "<p>24016 rows × 2401 columns</p>\n",
              "</div>\n",
              "      <button class=\"colab-df-convert\" onclick=\"convertToInteractive('df-676490d4-54d8-4218-8886-5a5e20d5f5dc')\"\n",
              "              title=\"Convert this dataframe to an interactive table.\"\n",
              "              style=\"display:none;\">\n",
              "        \n",
              "  <svg xmlns=\"http://www.w3.org/2000/svg\" height=\"24px\"viewBox=\"0 0 24 24\"\n",
              "       width=\"24px\">\n",
              "    <path d=\"M0 0h24v24H0V0z\" fill=\"none\"/>\n",
              "    <path d=\"M18.56 5.44l.94 2.06.94-2.06 2.06-.94-2.06-.94-.94-2.06-.94 2.06-2.06.94zm-11 1L8.5 8.5l.94-2.06 2.06-.94-2.06-.94L8.5 2.5l-.94 2.06-2.06.94zm10 10l.94 2.06.94-2.06 2.06-.94-2.06-.94-.94-2.06-.94 2.06-2.06.94z\"/><path d=\"M17.41 7.96l-1.37-1.37c-.4-.4-.92-.59-1.43-.59-.52 0-1.04.2-1.43.59L10.3 9.45l-7.72 7.72c-.78.78-.78 2.05 0 2.83L4 21.41c.39.39.9.59 1.41.59.51 0 1.02-.2 1.41-.59l7.78-7.78 2.81-2.81c.8-.78.8-2.07 0-2.86zM5.41 20L4 18.59l7.72-7.72 1.47 1.35L5.41 20z\"/>\n",
              "  </svg>\n",
              "      </button>\n",
              "      \n",
              "  <style>\n",
              "    .colab-df-container {\n",
              "      display:flex;\n",
              "      flex-wrap:wrap;\n",
              "      gap: 12px;\n",
              "    }\n",
              "\n",
              "    .colab-df-convert {\n",
              "      background-color: #E8F0FE;\n",
              "      border: none;\n",
              "      border-radius: 50%;\n",
              "      cursor: pointer;\n",
              "      display: none;\n",
              "      fill: #1967D2;\n",
              "      height: 32px;\n",
              "      padding: 0 0 0 0;\n",
              "      width: 32px;\n",
              "    }\n",
              "\n",
              "    .colab-df-convert:hover {\n",
              "      background-color: #E2EBFA;\n",
              "      box-shadow: 0px 1px 2px rgba(60, 64, 67, 0.3), 0px 1px 3px 1px rgba(60, 64, 67, 0.15);\n",
              "      fill: #174EA6;\n",
              "    }\n",
              "\n",
              "    [theme=dark] .colab-df-convert {\n",
              "      background-color: #3B4455;\n",
              "      fill: #D2E3FC;\n",
              "    }\n",
              "\n",
              "    [theme=dark] .colab-df-convert:hover {\n",
              "      background-color: #434B5C;\n",
              "      box-shadow: 0px 1px 3px 1px rgba(0, 0, 0, 0.15);\n",
              "      filter: drop-shadow(0px 1px 2px rgba(0, 0, 0, 0.3));\n",
              "      fill: #FFFFFF;\n",
              "    }\n",
              "  </style>\n",
              "\n",
              "      <script>\n",
              "        const buttonEl =\n",
              "          document.querySelector('#df-676490d4-54d8-4218-8886-5a5e20d5f5dc button.colab-df-convert');\n",
              "        buttonEl.style.display =\n",
              "          google.colab.kernel.accessAllowed ? 'block' : 'none';\n",
              "\n",
              "        async function convertToInteractive(key) {\n",
              "          const element = document.querySelector('#df-676490d4-54d8-4218-8886-5a5e20d5f5dc');\n",
              "          const dataTable =\n",
              "            await google.colab.kernel.invokeFunction('convertToInteractive',\n",
              "                                                     [key], {});\n",
              "          if (!dataTable) return;\n",
              "\n",
              "          const docLinkHtml = 'Like what you see? Visit the ' +\n",
              "            '<a target=\"_blank\" href=https://colab.research.google.com/notebooks/data_table.ipynb>data table notebook</a>'\n",
              "            + ' to learn more about interactive tables.';\n",
              "          element.innerHTML = '';\n",
              "          dataTable['output_type'] = 'display_data';\n",
              "          await google.colab.output.renderOutput(dataTable, element);\n",
              "          const docLink = document.createElement('div');\n",
              "          docLink.innerHTML = docLinkHtml;\n",
              "          element.appendChild(docLink);\n",
              "        }\n",
              "      </script>\n",
              "    </div>\n",
              "  </div>\n",
              "  "
            ]
          },
          "metadata": {},
          "execution_count": 45
        }
      ]
    },
    {
      "cell_type": "code",
      "source": [
        "# tem um bug no dataset na coluna class de 'Flocking', aqui corrijo isso\n",
        "df_Flocking['Class'] = df_Flocking['Class ']\n",
        "df_Flocking = df_Flocking.drop(['Class '], axis=1)\n",
        "df_Flocking.x1[24015] = 0"
      ],
      "metadata": {
        "colab": {
          "base_uri": "https://localhost:8080/"
        },
        "id": "Ky0jn6_aXwk4",
        "outputId": "5017f3c1-3059-4605-8fad-cbe8ea24d550"
      },
      "execution_count": 48,
      "outputs": [
        {
          "output_type": "stream",
          "name": "stderr",
          "text": [
            "<ipython-input-48-1294e0015b44>:4: SettingWithCopyWarning: \n",
            "A value is trying to be set on a copy of a slice from a DataFrame\n",
            "\n",
            "See the caveats in the documentation: https://pandas.pydata.org/pandas-docs/stable/user_guide/indexing.html#returning-a-view-versus-a-copy\n",
            "  df_Flocking.x1[24015] = 0\n"
          ]
        }
      ]
    },
    {
      "cell_type": "code",
      "source": [
        "df_Flocking.describe()"
      ],
      "metadata": {
        "colab": {
          "base_uri": "https://localhost:8080/",
          "height": 393
        },
        "id": "9bG4acZ5W2Bn",
        "outputId": "debef101-6e77-4e09-a09c-14cc21597839"
      },
      "execution_count": 33,
      "outputs": [
        {
          "output_type": "execute_result",
          "data": {
            "text/plain": [
              "                 y1         xVel1         yVel1           xA1           yA1  \\\n",
              "count  24016.000000  24016.000000  24016.000000  24016.000000  24016.000000   \n",
              "mean     -73.077114     -0.737331      0.041984     -0.148090      0.151028   \n",
              "std      572.552115      6.445250      7.374884      0.377028      0.590219   \n",
              "min    -1012.180000    -18.590000    -18.410000     -1.000000     -1.000000   \n",
              "25%     -609.352500     -5.520000     -5.710000     -0.230000     -0.010000   \n",
              "50%     -156.685000     -0.460000     -1.600000      0.000000      0.000000   \n",
              "75%      424.445000      3.820000      7.310000      0.000000      0.940000   \n",
              "max     1015.800000     18.470000     18.630000      1.000000      1.040000   \n",
              "\n",
              "                xS1           yS1           xC1           yC1          nAC1  \\\n",
              "count  24016.000000  24016.000000  24016.000000  24016.000000  24016.000000   \n",
              "mean      -1.217209     -0.835799     -0.035581      0.075808     19.029772   \n",
              "std       27.762943     21.669753      0.558147      0.626971     23.233237   \n",
              "min     -944.070000   -847.910000     -2.680000     -2.680000      0.000000   \n",
              "25%        0.000000      0.000000     -0.040000     -0.020000      3.000000   \n",
              "50%        0.000000      0.000000      0.000000      0.000000      8.000000   \n",
              "75%        0.000000      0.000000      0.000000      0.020000     31.000000   \n",
              "max       68.560000    234.740000      2.680000      2.680000    157.000000   \n",
              "\n",
              "       ...       yVel200         xA200         yA200         xS200  \\\n",
              "count  ...  24016.000000  24016.000000  24016.000000  24016.000000   \n",
              "mean   ...      0.065710     -0.125927      0.127226     -1.660584   \n",
              "std    ...      7.709457      0.380757      0.571121     77.201164   \n",
              "min    ...    -18.440000     -1.040000     -1.000000  -4079.230000   \n",
              "25%    ...     -5.620000     -0.190000      0.000000      0.000000   \n",
              "50%    ...     -0.740000      0.000000      0.000000      0.000000   \n",
              "75%    ...      7.480000      0.000000      0.540000      0.000000   \n",
              "max    ...     18.530000      1.000000      1.040000    255.990000   \n",
              "\n",
              "              yS200         xC200         yC200        nAC200        nS200  \\\n",
              "count  24016.000000  24016.000000  24016.000000  24016.000000  24016.00000   \n",
              "mean      -0.095942     -0.017049      0.085548     26.258744      2.14736   \n",
              "std        7.362780      0.551924      0.613370     33.997001      7.53273   \n",
              "min     -370.240000     -2.680000     -2.680000      0.000000      0.00000   \n",
              "25%        0.000000     -0.072500      0.000000      2.000000      0.00000   \n",
              "50%        0.000000      0.000000      0.000000     12.000000      0.00000   \n",
              "75%        0.000000      0.000000      0.020000     35.000000      1.00000   \n",
              "max       68.940000      2.680000      2.680000    142.000000     65.00000   \n",
              "\n",
              "            Class   \n",
              "count  24016.00000  \n",
              "mean       0.50000  \n",
              "std        0.50001  \n",
              "min        0.00000  \n",
              "25%        0.00000  \n",
              "50%        0.50000  \n",
              "75%        1.00000  \n",
              "max        1.00000  \n",
              "\n",
              "[8 rows x 2400 columns]"
            ],
            "text/html": [
              "\n",
              "  <div id=\"df-505dc454-db72-4eec-bd13-2d618f2ed275\">\n",
              "    <div class=\"colab-df-container\">\n",
              "      <div>\n",
              "<style scoped>\n",
              "    .dataframe tbody tr th:only-of-type {\n",
              "        vertical-align: middle;\n",
              "    }\n",
              "\n",
              "    .dataframe tbody tr th {\n",
              "        vertical-align: top;\n",
              "    }\n",
              "\n",
              "    .dataframe thead th {\n",
              "        text-align: right;\n",
              "    }\n",
              "</style>\n",
              "<table border=\"1\" class=\"dataframe\">\n",
              "  <thead>\n",
              "    <tr style=\"text-align: right;\">\n",
              "      <th></th>\n",
              "      <th>y1</th>\n",
              "      <th>xVel1</th>\n",
              "      <th>yVel1</th>\n",
              "      <th>xA1</th>\n",
              "      <th>yA1</th>\n",
              "      <th>xS1</th>\n",
              "      <th>yS1</th>\n",
              "      <th>xC1</th>\n",
              "      <th>yC1</th>\n",
              "      <th>nAC1</th>\n",
              "      <th>...</th>\n",
              "      <th>yVel200</th>\n",
              "      <th>xA200</th>\n",
              "      <th>yA200</th>\n",
              "      <th>xS200</th>\n",
              "      <th>yS200</th>\n",
              "      <th>xC200</th>\n",
              "      <th>yC200</th>\n",
              "      <th>nAC200</th>\n",
              "      <th>nS200</th>\n",
              "      <th>Class</th>\n",
              "    </tr>\n",
              "  </thead>\n",
              "  <tbody>\n",
              "    <tr>\n",
              "      <th>count</th>\n",
              "      <td>24016.000000</td>\n",
              "      <td>24016.000000</td>\n",
              "      <td>24016.000000</td>\n",
              "      <td>24016.000000</td>\n",
              "      <td>24016.000000</td>\n",
              "      <td>24016.000000</td>\n",
              "      <td>24016.000000</td>\n",
              "      <td>24016.000000</td>\n",
              "      <td>24016.000000</td>\n",
              "      <td>24016.000000</td>\n",
              "      <td>...</td>\n",
              "      <td>24016.000000</td>\n",
              "      <td>24016.000000</td>\n",
              "      <td>24016.000000</td>\n",
              "      <td>24016.000000</td>\n",
              "      <td>24016.000000</td>\n",
              "      <td>24016.000000</td>\n",
              "      <td>24016.000000</td>\n",
              "      <td>24016.000000</td>\n",
              "      <td>24016.00000</td>\n",
              "      <td>24016.00000</td>\n",
              "    </tr>\n",
              "    <tr>\n",
              "      <th>mean</th>\n",
              "      <td>-73.077114</td>\n",
              "      <td>-0.737331</td>\n",
              "      <td>0.041984</td>\n",
              "      <td>-0.148090</td>\n",
              "      <td>0.151028</td>\n",
              "      <td>-1.217209</td>\n",
              "      <td>-0.835799</td>\n",
              "      <td>-0.035581</td>\n",
              "      <td>0.075808</td>\n",
              "      <td>19.029772</td>\n",
              "      <td>...</td>\n",
              "      <td>0.065710</td>\n",
              "      <td>-0.125927</td>\n",
              "      <td>0.127226</td>\n",
              "      <td>-1.660584</td>\n",
              "      <td>-0.095942</td>\n",
              "      <td>-0.017049</td>\n",
              "      <td>0.085548</td>\n",
              "      <td>26.258744</td>\n",
              "      <td>2.14736</td>\n",
              "      <td>0.50000</td>\n",
              "    </tr>\n",
              "    <tr>\n",
              "      <th>std</th>\n",
              "      <td>572.552115</td>\n",
              "      <td>6.445250</td>\n",
              "      <td>7.374884</td>\n",
              "      <td>0.377028</td>\n",
              "      <td>0.590219</td>\n",
              "      <td>27.762943</td>\n",
              "      <td>21.669753</td>\n",
              "      <td>0.558147</td>\n",
              "      <td>0.626971</td>\n",
              "      <td>23.233237</td>\n",
              "      <td>...</td>\n",
              "      <td>7.709457</td>\n",
              "      <td>0.380757</td>\n",
              "      <td>0.571121</td>\n",
              "      <td>77.201164</td>\n",
              "      <td>7.362780</td>\n",
              "      <td>0.551924</td>\n",
              "      <td>0.613370</td>\n",
              "      <td>33.997001</td>\n",
              "      <td>7.53273</td>\n",
              "      <td>0.50001</td>\n",
              "    </tr>\n",
              "    <tr>\n",
              "      <th>min</th>\n",
              "      <td>-1012.180000</td>\n",
              "      <td>-18.590000</td>\n",
              "      <td>-18.410000</td>\n",
              "      <td>-1.000000</td>\n",
              "      <td>-1.000000</td>\n",
              "      <td>-944.070000</td>\n",
              "      <td>-847.910000</td>\n",
              "      <td>-2.680000</td>\n",
              "      <td>-2.680000</td>\n",
              "      <td>0.000000</td>\n",
              "      <td>...</td>\n",
              "      <td>-18.440000</td>\n",
              "      <td>-1.040000</td>\n",
              "      <td>-1.000000</td>\n",
              "      <td>-4079.230000</td>\n",
              "      <td>-370.240000</td>\n",
              "      <td>-2.680000</td>\n",
              "      <td>-2.680000</td>\n",
              "      <td>0.000000</td>\n",
              "      <td>0.00000</td>\n",
              "      <td>0.00000</td>\n",
              "    </tr>\n",
              "    <tr>\n",
              "      <th>25%</th>\n",
              "      <td>-609.352500</td>\n",
              "      <td>-5.520000</td>\n",
              "      <td>-5.710000</td>\n",
              "      <td>-0.230000</td>\n",
              "      <td>-0.010000</td>\n",
              "      <td>0.000000</td>\n",
              "      <td>0.000000</td>\n",
              "      <td>-0.040000</td>\n",
              "      <td>-0.020000</td>\n",
              "      <td>3.000000</td>\n",
              "      <td>...</td>\n",
              "      <td>-5.620000</td>\n",
              "      <td>-0.190000</td>\n",
              "      <td>0.000000</td>\n",
              "      <td>0.000000</td>\n",
              "      <td>0.000000</td>\n",
              "      <td>-0.072500</td>\n",
              "      <td>0.000000</td>\n",
              "      <td>2.000000</td>\n",
              "      <td>0.00000</td>\n",
              "      <td>0.00000</td>\n",
              "    </tr>\n",
              "    <tr>\n",
              "      <th>50%</th>\n",
              "      <td>-156.685000</td>\n",
              "      <td>-0.460000</td>\n",
              "      <td>-1.600000</td>\n",
              "      <td>0.000000</td>\n",
              "      <td>0.000000</td>\n",
              "      <td>0.000000</td>\n",
              "      <td>0.000000</td>\n",
              "      <td>0.000000</td>\n",
              "      <td>0.000000</td>\n",
              "      <td>8.000000</td>\n",
              "      <td>...</td>\n",
              "      <td>-0.740000</td>\n",
              "      <td>0.000000</td>\n",
              "      <td>0.000000</td>\n",
              "      <td>0.000000</td>\n",
              "      <td>0.000000</td>\n",
              "      <td>0.000000</td>\n",
              "      <td>0.000000</td>\n",
              "      <td>12.000000</td>\n",
              "      <td>0.00000</td>\n",
              "      <td>0.50000</td>\n",
              "    </tr>\n",
              "    <tr>\n",
              "      <th>75%</th>\n",
              "      <td>424.445000</td>\n",
              "      <td>3.820000</td>\n",
              "      <td>7.310000</td>\n",
              "      <td>0.000000</td>\n",
              "      <td>0.940000</td>\n",
              "      <td>0.000000</td>\n",
              "      <td>0.000000</td>\n",
              "      <td>0.000000</td>\n",
              "      <td>0.020000</td>\n",
              "      <td>31.000000</td>\n",
              "      <td>...</td>\n",
              "      <td>7.480000</td>\n",
              "      <td>0.000000</td>\n",
              "      <td>0.540000</td>\n",
              "      <td>0.000000</td>\n",
              "      <td>0.000000</td>\n",
              "      <td>0.000000</td>\n",
              "      <td>0.020000</td>\n",
              "      <td>35.000000</td>\n",
              "      <td>1.00000</td>\n",
              "      <td>1.00000</td>\n",
              "    </tr>\n",
              "    <tr>\n",
              "      <th>max</th>\n",
              "      <td>1015.800000</td>\n",
              "      <td>18.470000</td>\n",
              "      <td>18.630000</td>\n",
              "      <td>1.000000</td>\n",
              "      <td>1.040000</td>\n",
              "      <td>68.560000</td>\n",
              "      <td>234.740000</td>\n",
              "      <td>2.680000</td>\n",
              "      <td>2.680000</td>\n",
              "      <td>157.000000</td>\n",
              "      <td>...</td>\n",
              "      <td>18.530000</td>\n",
              "      <td>1.000000</td>\n",
              "      <td>1.040000</td>\n",
              "      <td>255.990000</td>\n",
              "      <td>68.940000</td>\n",
              "      <td>2.680000</td>\n",
              "      <td>2.680000</td>\n",
              "      <td>142.000000</td>\n",
              "      <td>65.00000</td>\n",
              "      <td>1.00000</td>\n",
              "    </tr>\n",
              "  </tbody>\n",
              "</table>\n",
              "<p>8 rows × 2400 columns</p>\n",
              "</div>\n",
              "      <button class=\"colab-df-convert\" onclick=\"convertToInteractive('df-505dc454-db72-4eec-bd13-2d618f2ed275')\"\n",
              "              title=\"Convert this dataframe to an interactive table.\"\n",
              "              style=\"display:none;\">\n",
              "        \n",
              "  <svg xmlns=\"http://www.w3.org/2000/svg\" height=\"24px\"viewBox=\"0 0 24 24\"\n",
              "       width=\"24px\">\n",
              "    <path d=\"M0 0h24v24H0V0z\" fill=\"none\"/>\n",
              "    <path d=\"M18.56 5.44l.94 2.06.94-2.06 2.06-.94-2.06-.94-.94-2.06-.94 2.06-2.06.94zm-11 1L8.5 8.5l.94-2.06 2.06-.94-2.06-.94L8.5 2.5l-.94 2.06-2.06.94zm10 10l.94 2.06.94-2.06 2.06-.94-2.06-.94-.94-2.06-.94 2.06-2.06.94z\"/><path d=\"M17.41 7.96l-1.37-1.37c-.4-.4-.92-.59-1.43-.59-.52 0-1.04.2-1.43.59L10.3 9.45l-7.72 7.72c-.78.78-.78 2.05 0 2.83L4 21.41c.39.39.9.59 1.41.59.51 0 1.02-.2 1.41-.59l7.78-7.78 2.81-2.81c.8-.78.8-2.07 0-2.86zM5.41 20L4 18.59l7.72-7.72 1.47 1.35L5.41 20z\"/>\n",
              "  </svg>\n",
              "      </button>\n",
              "      \n",
              "  <style>\n",
              "    .colab-df-container {\n",
              "      display:flex;\n",
              "      flex-wrap:wrap;\n",
              "      gap: 12px;\n",
              "    }\n",
              "\n",
              "    .colab-df-convert {\n",
              "      background-color: #E8F0FE;\n",
              "      border: none;\n",
              "      border-radius: 50%;\n",
              "      cursor: pointer;\n",
              "      display: none;\n",
              "      fill: #1967D2;\n",
              "      height: 32px;\n",
              "      padding: 0 0 0 0;\n",
              "      width: 32px;\n",
              "    }\n",
              "\n",
              "    .colab-df-convert:hover {\n",
              "      background-color: #E2EBFA;\n",
              "      box-shadow: 0px 1px 2px rgba(60, 64, 67, 0.3), 0px 1px 3px 1px rgba(60, 64, 67, 0.15);\n",
              "      fill: #174EA6;\n",
              "    }\n",
              "\n",
              "    [theme=dark] .colab-df-convert {\n",
              "      background-color: #3B4455;\n",
              "      fill: #D2E3FC;\n",
              "    }\n",
              "\n",
              "    [theme=dark] .colab-df-convert:hover {\n",
              "      background-color: #434B5C;\n",
              "      box-shadow: 0px 1px 3px 1px rgba(0, 0, 0, 0.15);\n",
              "      filter: drop-shadow(0px 1px 2px rgba(0, 0, 0, 0.3));\n",
              "      fill: #FFFFFF;\n",
              "    }\n",
              "  </style>\n",
              "\n",
              "      <script>\n",
              "        const buttonEl =\n",
              "          document.querySelector('#df-505dc454-db72-4eec-bd13-2d618f2ed275 button.colab-df-convert');\n",
              "        buttonEl.style.display =\n",
              "          google.colab.kernel.accessAllowed ? 'block' : 'none';\n",
              "\n",
              "        async function convertToInteractive(key) {\n",
              "          const element = document.querySelector('#df-505dc454-db72-4eec-bd13-2d618f2ed275');\n",
              "          const dataTable =\n",
              "            await google.colab.kernel.invokeFunction('convertToInteractive',\n",
              "                                                     [key], {});\n",
              "          if (!dataTable) return;\n",
              "\n",
              "          const docLinkHtml = 'Like what you see? Visit the ' +\n",
              "            '<a target=\"_blank\" href=https://colab.research.google.com/notebooks/data_table.ipynb>data table notebook</a>'\n",
              "            + ' to learn more about interactive tables.';\n",
              "          element.innerHTML = '';\n",
              "          dataTable['output_type'] = 'display_data';\n",
              "          await google.colab.output.renderOutput(dataTable, element);\n",
              "          const docLink = document.createElement('div');\n",
              "          docLink.innerHTML = docLinkHtml;\n",
              "          element.appendChild(docLink);\n",
              "        }\n",
              "      </script>\n",
              "    </div>\n",
              "  </div>\n",
              "  "
            ]
          },
          "metadata": {},
          "execution_count": 33
        }
      ]
    },
    {
      "cell_type": "markdown",
      "source": [
        "Checar valores faltantes nos datasets"
      ],
      "metadata": {
        "id": "uQUIA8p884zT"
      }
    },
    {
      "cell_type": "code",
      "source": [
        "missing_aligned_values = df_Aligned.isna().sum()\n",
        "print(\"Valores Faltando do dataset Aligned\")\n",
        "print(missing_aligned_values)\n",
        "\n",
        "missing_flocking_values = df_Flocking.isna().sum()\n",
        "print(\"Valores Faltando do dataset Flocking\")\n",
        "print(missing_flocking_values)\n",
        "\n",
        "missing_grouped_values = df_Grouped.isna().sum()\n",
        "print(\"Valores Faltando do dataset Grouped\")\n",
        "print(missing_grouped_values)"
      ],
      "metadata": {
        "colab": {
          "base_uri": "https://localhost:8080/"
        },
        "id": "vDvpAgsuVz_3",
        "outputId": "97415905-f8d6-470a-f2f5-e7ebf4f44cef"
      },
      "execution_count": 81,
      "outputs": [
        {
          "output_type": "stream",
          "name": "stdout",
          "text": [
            "Valores Faltando do dataset Aligned\n",
            "x1        0\n",
            "y1        0\n",
            "xVel1     0\n",
            "yVel1     0\n",
            "xA1       0\n",
            "         ..\n",
            "xC200     0\n",
            "yC200     0\n",
            "nAC200    0\n",
            "nS200     0\n",
            "Class     0\n",
            "Length: 2401, dtype: int64\n",
            "Valores Faltando do dataset Flocking\n",
            "x1        0\n",
            "y1        0\n",
            "xVel1     0\n",
            "yVel1     0\n",
            "xA1       0\n",
            "         ..\n",
            "xC200     0\n",
            "yC200     0\n",
            "nAC200    0\n",
            "nS200     0\n",
            "Class     0\n",
            "Length: 2401, dtype: int64\n",
            "Valores Faltando do dataset Grouped\n",
            "x1        0\n",
            "y1        0\n",
            "xVel1     0\n",
            "yVel1     0\n",
            "xA1       0\n",
            "         ..\n",
            "xC200     0\n",
            "yC200     0\n",
            "nAC200    0\n",
            "nS200     0\n",
            "Class     0\n",
            "Length: 2401, dtype: int64\n"
          ]
        }
      ]
    },
    {
      "cell_type": "markdown",
      "source": [
        "Devido a estrutura dos datasets eu assumo que, com exceção da última coluna os três são identicos\n",
        "\n",
        "Aqui eu faço a checagem dessa hipótese"
      ],
      "metadata": {
        "id": "Cg3udRCn9Lr8"
      }
    },
    {
      "cell_type": "code",
      "source": [
        "dfA_drop = df_Aligned.iloc[:, :-1]\n",
        "dfF_drop = df_Flocking.iloc[:, :-1]\n",
        "dfG_drop = df_Grouped.iloc[:, :-1]\n",
        "are_equal = dfA_drop.equals(dfF_drop)\n",
        "\n",
        "# Print the result.\n",
        "print(f'Os DataFrames Aligned e Flocking são iguais? {are_equal}')\n",
        "\n",
        "are_equal = dfA_drop.equals(dfG_drop)\n",
        "print(f'Os DataFrames Aligned e Grouped são iguais? {are_equal}')"
      ],
      "metadata": {
        "colab": {
          "base_uri": "https://localhost:8080/"
        },
        "id": "80v_fuhH0cI6",
        "outputId": "4bd1533a-f425-482f-fe74-b4183816b337"
      },
      "execution_count": 105,
      "outputs": [
        {
          "output_type": "stream",
          "name": "stdout",
          "text": [
            "Os DataFrames Aligned e Flocking são iguais? False\n",
            "Os DataFrames Aligned e Grouped são iguais? True\n"
          ]
        }
      ]
    },
    {
      "cell_type": "markdown",
      "source": [
        "A suposição estava parcialmente correta, os valores dos datasets Aligned e Grouped são iguais, porém os de Flocking são diferentes "
      ],
      "metadata": {
        "id": "GVZVDFm8-b-s"
      }
    },
    {
      "cell_type": "code",
      "source": [
        "diff = dfA_drop.compare(dfF_drop)\n",
        "num_diff = len(diff)\n",
        "print(f'Os DataFrames Aligned e Flocking tem {num_diff} valores diferentes.')"
      ],
      "metadata": {
        "colab": {
          "base_uri": "https://localhost:8080/"
        },
        "id": "uDtN3dhT1xHy",
        "outputId": "3dd79353-e9c2-4367-824c-e85751b2de5f"
      },
      "execution_count": 106,
      "outputs": [
        {
          "output_type": "stream",
          "name": "stdout",
          "text": [
            "Os DataFrames Aligned e Flocking tem 24016 valores diferentes.\n"
          ]
        }
      ]
    },
    {
      "cell_type": "markdown",
      "source": [
        "Curiosamente, os datasets tem 24016 valores diferentes, o que corresponde exatamente ao número de linhas neles contidos\n",
        "\n",
        "Vai que apenas uma linha é diferente entre os dois datasets?\n",
        "\n",
        "Testo em seguida essa possibilidade:"
      ],
      "metadata": {
        "id": "5cnx3a7e-qrF"
      }
    },
    {
      "cell_type": "code",
      "source": [
        "diff_count = (dfA_drop.ne(dfF_drop)).sum(axis=1)\n",
        "\n",
        "# Print the count of differences per row.\n",
        "print('Count of differences per row:')\n",
        "print(diff_count)"
      ],
      "metadata": {
        "colab": {
          "base_uri": "https://localhost:8080/"
        },
        "id": "ciKuNy2t5_gj",
        "outputId": "a88969da-9b6f-4d9a-fc41-4f9e61c9f014"
      },
      "execution_count": 99,
      "outputs": [
        {
          "output_type": "stream",
          "name": "stdout",
          "text": [
            "Count of differences per row:\n",
            "0           1\n",
            "1           1\n",
            "2           1\n",
            "3           1\n",
            "4           1\n",
            "         ... \n",
            "24011    1780\n",
            "24012    1385\n",
            "24013    1027\n",
            "24014    1635\n",
            "24015    2044\n",
            "Length: 24016, dtype: int64\n"
          ]
        }
      ]
    },
    {
      "cell_type": "markdown",
      "source": [
        "Não é só uma linha que tem valores diferentes entre os dois datasets, devo tratá-los portanto como entidades distintas\n",
        "\n",
        "Verifico agora a possibilidade de linhas duplicadas:"
      ],
      "metadata": {
        "id": "-VK6c1s76sz7"
      }
    },
    {
      "cell_type": "code",
      "source": [
        "duplicate_entries = df_Aligned.duplicated()\n",
        "print(f'Numero de linhas duplicadas nos df_Aligned e Grouped: {duplicate_entries.sum()}')\n",
        "duplicate_entries = df_Flocking.duplicated()\n",
        "print(f'Numero de linhas duplicadas no df_Flocking: {duplicate_entries.sum()}')"
      ],
      "metadata": {
        "colab": {
          "base_uri": "https://localhost:8080/"
        },
        "id": "U9u7JM4-77qD",
        "outputId": "aa0d2974-0768-43f7-8d8d-1ea7416d4d43"
      },
      "execution_count": 102,
      "outputs": [
        {
          "output_type": "stream",
          "name": "stdout",
          "text": [
            "Numero de linhas duplicadas nos df_Aligned e Grouped: 0\n",
            "Numero de linhas duplicadas no df_Flocking: 0\n"
          ]
        }
      ]
    },
    {
      "cell_type": "code",
      "source": [
        "stats = df_Aligned.describe()\n",
        "\n",
        "# Calculate the interquartile range (IQR).\n",
        "q1 = stats.loc['25%']\n",
        "q3 = stats.loc['75%']\n",
        "iqr = q3 - q1\n",
        "\n",
        "# Identify potential outliers.\n",
        "potential_outliers = (df_Aligned < q1 - 1.5 * iqr) | (df_Aligned > q3 + 1.5 * iqr)\n",
        "\n",
        "# Count the number of potential outliers in each column.\n",
        "num_outliers = potential_outliers.sum()\n",
        "\n",
        "# Print the number of potential outliers in each column.\n",
        "print('Number of potential outliers in each column:')\n",
        "print(num_outliers)"
      ],
      "metadata": {
        "colab": {
          "base_uri": "https://localhost:8080/"
        },
        "id": "9RLYI9VWD-NE",
        "outputId": "88cba6d0-66ce-499c-ed09-7c02fe7c8570"
      },
      "execution_count": 109,
      "outputs": [
        {
          "output_type": "stream",
          "name": "stdout",
          "text": [
            "Number of potential outliers in each column:\n",
            "x1            0\n",
            "y1            0\n",
            "xVel1         4\n",
            "yVel1         0\n",
            "xA1        3763\n",
            "          ...  \n",
            "xC200      7400\n",
            "yC200     10610\n",
            "nAC200     2466\n",
            "nS200      3074\n",
            "Class         0\n",
            "Length: 2401, dtype: int64\n"
          ]
        }
      ]
    },
    {
      "cell_type": "markdown",
      "source": [
        "Por fim, vemos o balanceamento das classes nos dataset"
      ],
      "metadata": {
        "id": "xZTCpZp1B8lE"
      }
    },
    {
      "cell_type": "code",
      "source": [
        "aligned_counts = df_Aligned['Class'].value_counts()\n",
        "flocking_counts = df_Flocking['Class'].value_counts()\n",
        "grouped_counts = df_Grouped['Class'].value_counts()\n",
        "\n",
        "plt.bar(aligned_counts.index, aligned_counts.values, color=['aquamarine','mediumseagreen'])\n",
        "plt.title(\"Aligned Values\")\n",
        "plt.show()\n",
        "\n",
        "plt.bar(flocking_counts.index, flocking_counts.values, color=['xkcd:sky blue', 'xkcd:eggshell'])\n",
        "plt.title(\"Flocking Values\")\n",
        "plt.show()\n",
        "\n",
        "plt.bar(grouped_counts.index, grouped_counts.values, color=['mediumseagreen', 'xkcd:sky blue'])\n",
        "plt.title(\"Grouped Values\")\n",
        "plt.show()"
      ],
      "metadata": {
        "colab": {
          "base_uri": "https://localhost:8080/",
          "height": 1000
        },
        "id": "KQI7e6SdYg5g",
        "outputId": "882a51ea-ec97-4520-d6d0-1899fe2d7274"
      },
      "execution_count": 107,
      "outputs": [
        {
          "output_type": "display_data",
          "data": {
            "text/plain": [
              "<Figure size 640x480 with 1 Axes>"
            ],
            "image/png": "[encoded data removed]"
          },
          "metadata": {}
        },
        {
          "output_type": "display_data",
          "data": {
            "text/plain": [
              "<Figure size 640x480 with 1 Axes>"
            ],
            "image/png": "[encoded data removed]"
          },
          "metadata": {}
        },
        {
          "output_type": "display_data",
          "data": {
            "text/plain": [
              "<Figure size 640x480 with 1 Axes>"
            ],
            "image/png": "[encoded data removed]"
          },
          "metadata": {}
        }
      ]
    },
    {
      "cell_type": "markdown",
      "source": [
        "Para 'Aligned' e 'Grouped', os datasets estão desbalanceados, o primeiro um pouco mais que o segundo.\n",
        "\n",
        "Curiosamente, para Flocking o dataset está perfeitamente balanceado"
      ],
      "metadata": {
        "id": "eKXHNFSOCkdF"
      }
    },
    {
      "cell_type": "code",
      "source": [
        "print(aligned_counts)\n",
        "print(flocking_counts)\n",
        "print(grouped_counts)"
      ],
      "metadata": {
        "colab": {
          "base_uri": "https://localhost:8080/"
        },
        "id": "9qM9IAj5DDIK",
        "outputId": "5e3866de-8914-4662-ac11-d2848d41155f"
      },
      "execution_count": 110,
      "outputs": [
        {
          "output_type": "stream",
          "name": "stdout",
          "text": [
            "0    16511\n",
            "1     7505\n",
            "Name: Class, dtype: int64\n",
            "0    12008\n",
            "1    12008\n",
            "Name: Class, dtype: int64\n",
            "0    15010\n",
            "1     9006\n",
            "Name: Class, dtype: int64\n"
          ]
        }
      ]
    },
    {
      "cell_type": "markdown",
      "source": [
        "Com relação às features"
      ],
      "metadata": {
        "id": "vu1CyvpUGwX2"
      }
    }
  ]
}