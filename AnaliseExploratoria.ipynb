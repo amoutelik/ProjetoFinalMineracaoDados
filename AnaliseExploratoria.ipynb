{
  "nbformat": 4,
  "nbformat_minor": 0,
  "metadata": {
    "colab": {
      "provenance": []
    },
    "kernelspec": {
      "name": "python3",
      "display_name": "Python 3"
    },
    "language_info": {
      "name": "python"
    }
  },
  "cells": [
    {
      "cell_type": "markdown",
      "source": [
        "## Swarm Behaviour Data\n",
        "Projeto Final da disciplina de Soluções em Mineração de Dados\n",
        "\n",
        "Aluno: Andrey Moutelik (arma2)"
      ],
      "metadata": {
        "id": "5hQ0_Oo4E0e_"
      }
    },
    {
      "cell_type": "markdown",
      "source": [
        "### Imports de bibliotecas e datasets"
      ],
      "metadata": {
        "id": "gE-XgZ8KBi-V"
      }
    },
    {
      "cell_type": "markdown",
      "source": [
        "Importando o dataset e as bibliotecas necessárias"
      ],
      "metadata": {
        "id": "MP_r2ao6yvSy"
      }
    },
    {
      "cell_type": "code",
      "source": [
        "!wget https://archive.ics.uci.edu/ml/machine-learning-databases/00524/Swarm%20Behavior%20Data.zip"
      ],
      "metadata": {
        "colab": {
          "base_uri": "https://localhost:8080/"
        },
        "id": "KX6qzpv-vbJb",
        "outputId": "3fb99b9a-e97c-4bbb-83ce-fb6f1b0fd971"
      },
      "execution_count": 26,
      "outputs": [
        {
          "output_type": "stream",
          "name": "stdout",
          "text": [
            "--2023-04-11 06:38:25--  https://archive.ics.uci.edu/ml/machine-learning-databases/00524/Swarm%20Behavior%20Data.zip\n",
            "Resolving archive.ics.uci.edu (archive.ics.uci.edu)... 128.195.10.252\n",
            "Connecting to archive.ics.uci.edu (archive.ics.uci.edu)|128.195.10.252|:443... connected.\n",
            "HTTP request sent, awaiting response... 200 OK\n",
            "Length: 222915673 (213M) [application/x-httpd-php]\n",
            "Saving to: ‘Swarm Behavior Data.zip.2’\n",
            "\n",
            "Swarm Behavior Data 100%[===================>] 212.59M  21.7MB/s    in 11s     \n",
            "\n",
            "2023-04-11 06:38:37 (19.9 MB/s) - ‘Swarm Behavior Data.zip.2’ saved [222915673/222915673]\n",
            "\n"
          ]
        }
      ]
    },
    {
      "cell_type": "code",
      "source": [
        "import numpy as np \n",
        "import pandas as pd\n",
        "import seaborn as sns\n",
        "import matplotlib.pyplot as plt"
      ],
      "metadata": {
        "id": "9uk-1IgKKqC6"
      },
      "execution_count": 27,
      "outputs": []
    },
    {
      "cell_type": "code",
      "execution_count": 28,
      "metadata": {
        "colab": {
          "base_uri": "https://localhost:8080/"
        },
        "id": "SGKM_QNEqujo",
        "outputId": "e74ea345-ace6-4d8f-e15f-e8186c0554e6"
      },
      "outputs": [
        {
          "output_type": "stream",
          "name": "stdout",
          "text": [
            "Done\n"
          ]
        }
      ],
      "source": [
        "from zipfile import ZipFile\n",
        "file_name = \"Swarm Behavior Data.zip\"\n",
        "with ZipFile(file_name,'r') as zip:\n",
        "  zip.extractall()\n",
        "  print('Done')"
      ]
    },
    {
      "cell_type": "markdown",
      "source": [
        "Descrição das features:\n",
        "\n",
        "xm e ym são a posição (X,Y) de cada boid;\n",
        "\n",
        "xVeln e yVeln são o vetor de velocidade;\n",
        "\n",
        "xAm e yAm são o vetor de alinhamento;\n",
        "\n",
        "xSm e ySm são o vetor de separação;\n",
        "\n",
        "xCm e yCm são o vetor de coesão;\n",
        "\n",
        "nACm é o número de boids em um raio de Alinhamento/Coesão;\n",
        "\n",
        "nSm é o número de boids no raio de Separação.\n",
        "\n",
        "Esses atributos são repetidos para todos os m boids, onde m = 1,...,200. (12*200 = 2 400)\n",
        "\n",
        "Resultando em *2400 FEATURES*\n"
      ],
      "metadata": {
        "id": "gYa3XbDlIWHu"
      }
    },
    {
      "cell_type": "code",
      "source": [
        "df_Aligned = pd.read_csv(\"/content/Swarm Behavior Data/Aligned.csv\", low_memory= False)\n",
        "df_Flocking = pd.read_csv(\"/content/Swarm Behavior Data/Flocking.csv\", low_memory= False)\n",
        "df_Grouped = pd.read_csv(\"/content/Swarm Behavior Data/Grouped.csv\", low_memory= False)"
      ],
      "metadata": {
        "id": "Poon_YvOKAMD"
      },
      "execution_count": 29,
      "outputs": []
    },
    {
      "cell_type": "code",
      "source": [
        "# tem um bug no dataset na coluna class de 'Flocking', aqui corrijo isso\n",
        "df_Flocking['Class'] = df_Flocking['Class ']\n",
        "df_Flocking = df_Flocking.drop(['Class '], axis=1)\n",
        "df_Flocking.x1[24015] = 0"
      ],
      "metadata": {
        "colab": {
          "base_uri": "https://localhost:8080/"
        },
        "id": "Ky0jn6_aXwk4",
        "outputId": "f75cd6db-ae10-4451-ca03-198fb30d5ad7"
      },
      "execution_count": 30,
      "outputs": [
        {
          "output_type": "stream",
          "name": "stderr",
          "text": [
            "<ipython-input-30-489a0ac30fd3>:4: SettingWithCopyWarning: \n",
            "A value is trying to be set on a copy of a slice from a DataFrame\n",
            "\n",
            "See the caveats in the documentation: https://pandas.pydata.org/pandas-docs/stable/user_guide/indexing.html#returning-a-view-versus-a-copy\n",
            "  df_Flocking.x1[24015] = 0\n"
          ]
        }
      ]
    },
    {
      "cell_type": "code",
      "source": [
        "df_Flocking.describe()"
      ],
      "metadata": {
        "colab": {
          "base_uri": "https://localhost:8080/",
          "height": 393
        },
        "id": "9bG4acZ5W2Bn",
        "outputId": "5bcf41e8-b01b-4861-90d9-edb5d6169a93"
      },
      "execution_count": 31,
      "outputs": [
        {
          "output_type": "execute_result",
          "data": {
            "text/plain": [
              "                 y1         xVel1         yVel1           xA1           yA1  \\\n",
              "count  24016.000000  24016.000000  24016.000000  24016.000000  24016.000000   \n",
              "mean     -73.077114     -0.737331      0.041984     -0.148090      0.151028   \n",
              "std      572.552115      6.445250      7.374884      0.377028      0.590219   \n",
              "min    -1012.180000    -18.590000    -18.410000     -1.000000     -1.000000   \n",
              "25%     -609.352500     -5.520000     -5.710000     -0.230000     -0.010000   \n",
              "50%     -156.685000     -0.460000     -1.600000      0.000000      0.000000   \n",
              "75%      424.445000      3.820000      7.310000      0.000000      0.940000   \n",
              "max     1015.800000     18.470000     18.630000      1.000000      1.040000   \n",
              "\n",
              "                xS1           yS1           xC1           yC1          nAC1  \\\n",
              "count  24016.000000  24016.000000  24016.000000  24016.000000  24016.000000   \n",
              "mean      -1.217209     -0.835799     -0.035581      0.075808     19.029772   \n",
              "std       27.762943     21.669753      0.558147      0.626971     23.233237   \n",
              "min     -944.070000   -847.910000     -2.680000     -2.680000      0.000000   \n",
              "25%        0.000000      0.000000     -0.040000     -0.020000      3.000000   \n",
              "50%        0.000000      0.000000      0.000000      0.000000      8.000000   \n",
              "75%        0.000000      0.000000      0.000000      0.020000     31.000000   \n",
              "max       68.560000    234.740000      2.680000      2.680000    157.000000   \n",
              "\n",
              "       ...       yVel200         xA200         yA200         xS200  \\\n",
              "count  ...  24016.000000  24016.000000  24016.000000  24016.000000   \n",
              "mean   ...      0.065710     -0.125927      0.127226     -1.660584   \n",
              "std    ...      7.709457      0.380757      0.571121     77.201164   \n",
              "min    ...    -18.440000     -1.040000     -1.000000  -4079.230000   \n",
              "25%    ...     -5.620000     -0.190000      0.000000      0.000000   \n",
              "50%    ...     -0.740000      0.000000      0.000000      0.000000   \n",
              "75%    ...      7.480000      0.000000      0.540000      0.000000   \n",
              "max    ...     18.530000      1.000000      1.040000    255.990000   \n",
              "\n",
              "              yS200         xC200         yC200        nAC200        nS200  \\\n",
              "count  24016.000000  24016.000000  24016.000000  24016.000000  24016.00000   \n",
              "mean      -0.095942     -0.017049      0.085548     26.258744      2.14736   \n",
              "std        7.362780      0.551924      0.613370     33.997001      7.53273   \n",
              "min     -370.240000     -2.680000     -2.680000      0.000000      0.00000   \n",
              "25%        0.000000     -0.072500      0.000000      2.000000      0.00000   \n",
              "50%        0.000000      0.000000      0.000000     12.000000      0.00000   \n",
              "75%        0.000000      0.000000      0.020000     35.000000      1.00000   \n",
              "max       68.940000      2.680000      2.680000    142.000000     65.00000   \n",
              "\n",
              "             Class  \n",
              "count  24016.00000  \n",
              "mean       0.50000  \n",
              "std        0.50001  \n",
              "min        0.00000  \n",
              "25%        0.00000  \n",
              "50%        0.50000  \n",
              "75%        1.00000  \n",
              "max        1.00000  \n",
              "\n",
              "[8 rows x 2400 columns]"
            ],
            "text/html": [
              "\n",
              "  <div id=\"df-e8b50db4-5f99-4d0b-a069-508a7f77317c\">\n",
              "    <div class=\"colab-df-container\">\n",
              "      <div>\n",
              "<style scoped>\n",
              "    .dataframe tbody tr th:only-of-type {\n",
              "        vertical-align: middle;\n",
              "    }\n",
              "\n",
              "    .dataframe tbody tr th {\n",
              "        vertical-align: top;\n",
              "    }\n",
              "\n",
              "    .dataframe thead th {\n",
              "        text-align: right;\n",
              "    }\n",
              "</style>\n",
              "<table border=\"1\" class=\"dataframe\">\n",
              "  <thead>\n",
              "    <tr style=\"text-align: right;\">\n",
              "      <th></th>\n",
              "      <th>y1</th>\n",
              "      <th>xVel1</th>\n",
              "      <th>yVel1</th>\n",
              "      <th>xA1</th>\n",
              "      <th>yA1</th>\n",
              "      <th>xS1</th>\n",
              "      <th>yS1</th>\n",
              "      <th>xC1</th>\n",
              "      <th>yC1</th>\n",
              "      <th>nAC1</th>\n",
              "      <th>...</th>\n",
              "      <th>yVel200</th>\n",
              "      <th>xA200</th>\n",
              "      <th>yA200</th>\n",
              "      <th>xS200</th>\n",
              "      <th>yS200</th>\n",
              "      <th>xC200</th>\n",
              "      <th>yC200</th>\n",
              "      <th>nAC200</th>\n",
              "      <th>nS200</th>\n",
              "      <th>Class</th>\n",
              "    </tr>\n",
              "  </thead>\n",
              "  <tbody>\n",
              "    <tr>\n",
              "      <th>count</th>\n",
              "      <td>24016.000000</td>\n",
              "      <td>24016.000000</td>\n",
              "      <td>24016.000000</td>\n",
              "      <td>24016.000000</td>\n",
              "      <td>24016.000000</td>\n",
              "      <td>24016.000000</td>\n",
              "      <td>24016.000000</td>\n",
              "      <td>24016.000000</td>\n",
              "      <td>24016.000000</td>\n",
              "      <td>24016.000000</td>\n",
              "      <td>...</td>\n",
              "      <td>24016.000000</td>\n",
              "      <td>24016.000000</td>\n",
              "      <td>24016.000000</td>\n",
              "      <td>24016.000000</td>\n",
              "      <td>24016.000000</td>\n",
              "      <td>24016.000000</td>\n",
              "      <td>24016.000000</td>\n",
              "      <td>24016.000000</td>\n",
              "      <td>24016.00000</td>\n",
              "      <td>24016.00000</td>\n",
              "    </tr>\n",
              "    <tr>\n",
              "      <th>mean</th>\n",
              "      <td>-73.077114</td>\n",
              "      <td>-0.737331</td>\n",
              "      <td>0.041984</td>\n",
              "      <td>-0.148090</td>\n",
              "      <td>0.151028</td>\n",
              "      <td>-1.217209</td>\n",
              "      <td>-0.835799</td>\n",
              "      <td>-0.035581</td>\n",
              "      <td>0.075808</td>\n",
              "      <td>19.029772</td>\n",
              "      <td>...</td>\n",
              "      <td>0.065710</td>\n",
              "      <td>-0.125927</td>\n",
              "      <td>0.127226</td>\n",
              "      <td>-1.660584</td>\n",
              "      <td>-0.095942</td>\n",
              "      <td>-0.017049</td>\n",
              "      <td>0.085548</td>\n",
              "      <td>26.258744</td>\n",
              "      <td>2.14736</td>\n",
              "      <td>0.50000</td>\n",
              "    </tr>\n",
              "    <tr>\n",
              "      <th>std</th>\n",
              "      <td>572.552115</td>\n",
              "      <td>6.445250</td>\n",
              "      <td>7.374884</td>\n",
              "      <td>0.377028</td>\n",
              "      <td>0.590219</td>\n",
              "      <td>27.762943</td>\n",
              "      <td>21.669753</td>\n",
              "      <td>0.558147</td>\n",
              "      <td>0.626971</td>\n",
              "      <td>23.233237</td>\n",
              "      <td>...</td>\n",
              "      <td>7.709457</td>\n",
              "      <td>0.380757</td>\n",
              "      <td>0.571121</td>\n",
              "      <td>77.201164</td>\n",
              "      <td>7.362780</td>\n",
              "      <td>0.551924</td>\n",
              "      <td>0.613370</td>\n",
              "      <td>33.997001</td>\n",
              "      <td>7.53273</td>\n",
              "      <td>0.50001</td>\n",
              "    </tr>\n",
              "    <tr>\n",
              "      <th>min</th>\n",
              "      <td>-1012.180000</td>\n",
              "      <td>-18.590000</td>\n",
              "      <td>-18.410000</td>\n",
              "      <td>-1.000000</td>\n",
              "      <td>-1.000000</td>\n",
              "      <td>-944.070000</td>\n",
              "      <td>-847.910000</td>\n",
              "      <td>-2.680000</td>\n",
              "      <td>-2.680000</td>\n",
              "      <td>0.000000</td>\n",
              "      <td>...</td>\n",
              "      <td>-18.440000</td>\n",
              "      <td>-1.040000</td>\n",
              "      <td>-1.000000</td>\n",
              "      <td>-4079.230000</td>\n",
              "      <td>-370.240000</td>\n",
              "      <td>-2.680000</td>\n",
              "      <td>-2.680000</td>\n",
              "      <td>0.000000</td>\n",
              "      <td>0.00000</td>\n",
              "      <td>0.00000</td>\n",
              "    </tr>\n",
              "    <tr>\n",
              "      <th>25%</th>\n",
              "      <td>-609.352500</td>\n",
              "      <td>-5.520000</td>\n",
              "      <td>-5.710000</td>\n",
              "      <td>-0.230000</td>\n",
              "      <td>-0.010000</td>\n",
              "      <td>0.000000</td>\n",
              "      <td>0.000000</td>\n",
              "      <td>-0.040000</td>\n",
              "      <td>-0.020000</td>\n",
              "      <td>3.000000</td>\n",
              "      <td>...</td>\n",
              "      <td>-5.620000</td>\n",
              "      <td>-0.190000</td>\n",
              "      <td>0.000000</td>\n",
              "      <td>0.000000</td>\n",
              "      <td>0.000000</td>\n",
              "      <td>-0.072500</td>\n",
              "      <td>0.000000</td>\n",
              "      <td>2.000000</td>\n",
              "      <td>0.00000</td>\n",
              "      <td>0.00000</td>\n",
              "    </tr>\n",
              "    <tr>\n",
              "      <th>50%</th>\n",
              "      <td>-156.685000</td>\n",
              "      <td>-0.460000</td>\n",
              "      <td>-1.600000</td>\n",
              "      <td>0.000000</td>\n",
              "      <td>0.000000</td>\n",
              "      <td>0.000000</td>\n",
              "      <td>0.000000</td>\n",
              "      <td>0.000000</td>\n",
              "      <td>0.000000</td>\n",
              "      <td>8.000000</td>\n",
              "      <td>...</td>\n",
              "      <td>-0.740000</td>\n",
              "      <td>0.000000</td>\n",
              "      <td>0.000000</td>\n",
              "      <td>0.000000</td>\n",
              "      <td>0.000000</td>\n",
              "      <td>0.000000</td>\n",
              "      <td>0.000000</td>\n",
              "      <td>12.000000</td>\n",
              "      <td>0.00000</td>\n",
              "      <td>0.50000</td>\n",
              "    </tr>\n",
              "    <tr>\n",
              "      <th>75%</th>\n",
              "      <td>424.445000</td>\n",
              "      <td>3.820000</td>\n",
              "      <td>7.310000</td>\n",
              "      <td>0.000000</td>\n",
              "      <td>0.940000</td>\n",
              "      <td>0.000000</td>\n",
              "      <td>0.000000</td>\n",
              "      <td>0.000000</td>\n",
              "      <td>0.020000</td>\n",
              "      <td>31.000000</td>\n",
              "      <td>...</td>\n",
              "      <td>7.480000</td>\n",
              "      <td>0.000000</td>\n",
              "      <td>0.540000</td>\n",
              "      <td>0.000000</td>\n",
              "      <td>0.000000</td>\n",
              "      <td>0.000000</td>\n",
              "      <td>0.020000</td>\n",
              "      <td>35.000000</td>\n",
              "      <td>1.00000</td>\n",
              "      <td>1.00000</td>\n",
              "    </tr>\n",
              "    <tr>\n",
              "      <th>max</th>\n",
              "      <td>1015.800000</td>\n",
              "      <td>18.470000</td>\n",
              "      <td>18.630000</td>\n",
              "      <td>1.000000</td>\n",
              "      <td>1.040000</td>\n",
              "      <td>68.560000</td>\n",
              "      <td>234.740000</td>\n",
              "      <td>2.680000</td>\n",
              "      <td>2.680000</td>\n",
              "      <td>157.000000</td>\n",
              "      <td>...</td>\n",
              "      <td>18.530000</td>\n",
              "      <td>1.000000</td>\n",
              "      <td>1.040000</td>\n",
              "      <td>255.990000</td>\n",
              "      <td>68.940000</td>\n",
              "      <td>2.680000</td>\n",
              "      <td>2.680000</td>\n",
              "      <td>142.000000</td>\n",
              "      <td>65.00000</td>\n",
              "      <td>1.00000</td>\n",
              "    </tr>\n",
              "  </tbody>\n",
              "</table>\n",
              "<p>8 rows × 2400 columns</p>\n",
              "</div>\n",
              "      <button class=\"colab-df-convert\" onclick=\"convertToInteractive('df-e8b50db4-5f99-4d0b-a069-508a7f77317c')\"\n",
              "              title=\"Convert this dataframe to an interactive table.\"\n",
              "              style=\"display:none;\">\n",
              "        \n",
              "  <svg xmlns=\"http://www.w3.org/2000/svg\" height=\"24px\"viewBox=\"0 0 24 24\"\n",
              "       width=\"24px\">\n",
              "    <path d=\"M0 0h24v24H0V0z\" fill=\"none\"/>\n",
              "    <path d=\"M18.56 5.44l.94 2.06.94-2.06 2.06-.94-2.06-.94-.94-2.06-.94 2.06-2.06.94zm-11 1L8.5 8.5l.94-2.06 2.06-.94-2.06-.94L8.5 2.5l-.94 2.06-2.06.94zm10 10l.94 2.06.94-2.06 2.06-.94-2.06-.94-.94-2.06-.94 2.06-2.06.94z\"/><path d=\"M17.41 7.96l-1.37-1.37c-.4-.4-.92-.59-1.43-.59-.52 0-1.04.2-1.43.59L10.3 9.45l-7.72 7.72c-.78.78-.78 2.05 0 2.83L4 21.41c.39.39.9.59 1.41.59.51 0 1.02-.2 1.41-.59l7.78-7.78 2.81-2.81c.8-.78.8-2.07 0-2.86zM5.41 20L4 18.59l7.72-7.72 1.47 1.35L5.41 20z\"/>\n",
              "  </svg>\n",
              "      </button>\n",
              "      \n",
              "  <style>\n",
              "    .colab-df-container {\n",
              "      display:flex;\n",
              "      flex-wrap:wrap;\n",
              "      gap: 12px;\n",
              "    }\n",
              "\n",
              "    .colab-df-convert {\n",
              "      background-color: #E8F0FE;\n",
              "      border: none;\n",
              "      border-radius: 50%;\n",
              "      cursor: pointer;\n",
              "      display: none;\n",
              "      fill: #1967D2;\n",
              "      height: 32px;\n",
              "      padding: 0 0 0 0;\n",
              "      width: 32px;\n",
              "    }\n",
              "\n",
              "    .colab-df-convert:hover {\n",
              "      background-color: #E2EBFA;\n",
              "      box-shadow: 0px 1px 2px rgba(60, 64, 67, 0.3), 0px 1px 3px 1px rgba(60, 64, 67, 0.15);\n",
              "      fill: #174EA6;\n",
              "    }\n",
              "\n",
              "    [theme=dark] .colab-df-convert {\n",
              "      background-color: #3B4455;\n",
              "      fill: #D2E3FC;\n",
              "    }\n",
              "\n",
              "    [theme=dark] .colab-df-convert:hover {\n",
              "      background-color: #434B5C;\n",
              "      box-shadow: 0px 1px 3px 1px rgba(0, 0, 0, 0.15);\n",
              "      filter: drop-shadow(0px 1px 2px rgba(0, 0, 0, 0.3));\n",
              "      fill: #FFFFFF;\n",
              "    }\n",
              "  </style>\n",
              "\n",
              "      <script>\n",
              "        const buttonEl =\n",
              "          document.querySelector('#df-e8b50db4-5f99-4d0b-a069-508a7f77317c button.colab-df-convert');\n",
              "        buttonEl.style.display =\n",
              "          google.colab.kernel.accessAllowed ? 'block' : 'none';\n",
              "\n",
              "        async function convertToInteractive(key) {\n",
              "          const element = document.querySelector('#df-e8b50db4-5f99-4d0b-a069-508a7f77317c');\n",
              "          const dataTable =\n",
              "            await google.colab.kernel.invokeFunction('convertToInteractive',\n",
              "                                                     [key], {});\n",
              "          if (!dataTable) return;\n",
              "\n",
              "          const docLinkHtml = 'Like what you see? Visit the ' +\n",
              "            '<a target=\"_blank\" href=https://colab.research.google.com/notebooks/data_table.ipynb>data table notebook</a>'\n",
              "            + ' to learn more about interactive tables.';\n",
              "          element.innerHTML = '';\n",
              "          dataTable['output_type'] = 'display_data';\n",
              "          await google.colab.output.renderOutput(dataTable, element);\n",
              "          const docLink = document.createElement('div');\n",
              "          docLink.innerHTML = docLinkHtml;\n",
              "          element.appendChild(docLink);\n",
              "        }\n",
              "      </script>\n",
              "    </div>\n",
              "  </div>\n",
              "  "
            ]
          },
          "metadata": {},
          "execution_count": 31
        }
      ]
    },
    {
      "cell_type": "markdown",
      "source": [
        "### Checagem de valores faltantes, valores duplicados, e paridade entre os datasets"
      ],
      "metadata": {
        "id": "N3VXyXIaBxb-"
      }
    },
    {
      "cell_type": "markdown",
      "source": [
        "Checar valores faltantes nos datasets"
      ],
      "metadata": {
        "id": "uQUIA8p884zT"
      }
    },
    {
      "cell_type": "code",
      "source": [
        "missing_aligned_values = df_Aligned.isna().sum()\n",
        "print(\"Valores Faltando do dataset Aligned\")\n",
        "print(missing_aligned_values)\n",
        "\n",
        "missing_flocking_values = df_Flocking.isna().sum()\n",
        "print(\"Valores Faltando do dataset Flocking\")\n",
        "print(missing_flocking_values)\n",
        "\n",
        "missing_grouped_values = df_Grouped.isna().sum()\n",
        "print(\"Valores Faltando do dataset Grouped\")\n",
        "print(missing_grouped_values)"
      ],
      "metadata": {
        "colab": {
          "base_uri": "https://localhost:8080/"
        },
        "id": "vDvpAgsuVz_3",
        "outputId": "6e0561ef-7908-4096-d695-eb78c8ba0515"
      },
      "execution_count": 32,
      "outputs": [
        {
          "output_type": "stream",
          "name": "stdout",
          "text": [
            "Valores Faltando do dataset Aligned\n",
            "x1        0\n",
            "y1        0\n",
            "xVel1     0\n",
            "yVel1     0\n",
            "xA1       0\n",
            "         ..\n",
            "xC200     0\n",
            "yC200     0\n",
            "nAC200    0\n",
            "nS200     0\n",
            "Class     0\n",
            "Length: 2401, dtype: int64\n",
            "Valores Faltando do dataset Flocking\n",
            "x1        0\n",
            "y1        0\n",
            "xVel1     0\n",
            "yVel1     0\n",
            "xA1       0\n",
            "         ..\n",
            "xC200     0\n",
            "yC200     0\n",
            "nAC200    0\n",
            "nS200     0\n",
            "Class     0\n",
            "Length: 2401, dtype: int64\n",
            "Valores Faltando do dataset Grouped\n",
            "x1        0\n",
            "y1        0\n",
            "xVel1     0\n",
            "yVel1     0\n",
            "xA1       0\n",
            "         ..\n",
            "xC200     0\n",
            "yC200     0\n",
            "nAC200    0\n",
            "nS200     0\n",
            "Class     0\n",
            "Length: 2401, dtype: int64\n"
          ]
        }
      ]
    },
    {
      "cell_type": "markdown",
      "source": [
        "Devido a estrutura dos datasets eu assumo que, com exceção da última coluna os três são identicos\n",
        "\n",
        "Aqui eu faço a checagem dessa hipótese"
      ],
      "metadata": {
        "id": "Cg3udRCn9Lr8"
      }
    },
    {
      "cell_type": "code",
      "source": [
        "dfA_drop = df_Aligned.iloc[:, :-1]\n",
        "dfF_drop = df_Flocking.iloc[:, :-1]\n",
        "dfG_drop = df_Grouped.iloc[:, :-1]\n",
        "are_equal = dfA_drop.equals(dfF_drop)\n",
        "\n",
        "# Print the result.\n",
        "print(f'Os DataFrames Aligned e Flocking são iguais? {are_equal}')\n",
        "\n",
        "are_equal = dfA_drop.equals(dfG_drop)\n",
        "print(f'Os DataFrames Aligned e Grouped são iguais? {are_equal}')"
      ],
      "metadata": {
        "colab": {
          "base_uri": "https://localhost:8080/"
        },
        "id": "80v_fuhH0cI6",
        "outputId": "7095ed0a-74b6-4790-edb3-eb4583b2483b"
      },
      "execution_count": 33,
      "outputs": [
        {
          "output_type": "stream",
          "name": "stdout",
          "text": [
            "Os DataFrames Aligned e Flocking são iguais? False\n",
            "Os DataFrames Aligned e Grouped são iguais? True\n"
          ]
        }
      ]
    },
    {
      "cell_type": "markdown",
      "source": [
        "A suposição estava parcialmente correta, os valores dos datasets Aligned e Grouped são iguais, porém os de Flocking são diferentes "
      ],
      "metadata": {
        "id": "GVZVDFm8-b-s"
      }
    },
    {
      "cell_type": "code",
      "source": [
        "diff = dfA_drop.compare(dfF_drop)\n",
        "num_diff = len(diff)\n",
        "print(f'Os DataFrames Aligned e Flocking tem {num_diff} valores diferentes.')"
      ],
      "metadata": {
        "colab": {
          "base_uri": "https://localhost:8080/"
        },
        "id": "uDtN3dhT1xHy",
        "outputId": "e3e84258-168a-4a6d-bc54-e51b81f6aa2b"
      },
      "execution_count": 34,
      "outputs": [
        {
          "output_type": "stream",
          "name": "stdout",
          "text": [
            "Os DataFrames Aligned e Flocking tem 24016 valores diferentes.\n"
          ]
        }
      ]
    },
    {
      "cell_type": "markdown",
      "source": [
        "Curiosamente, os datasets tem 24016 valores diferentes, o que corresponde exatamente ao número de linhas neles contidos\n",
        "\n",
        "Vai que apenas uma linha é diferente entre os dois datasets?\n",
        "\n",
        "Testo em seguida essa possibilidade:"
      ],
      "metadata": {
        "id": "5cnx3a7e-qrF"
      }
    },
    {
      "cell_type": "code",
      "source": [
        "diff_count = (dfA_drop.ne(dfF_drop)).sum(axis=1)\n",
        "\n",
        "# Print the count of differences per row.\n",
        "print('Count of differences per row:')\n",
        "print(diff_count)"
      ],
      "metadata": {
        "colab": {
          "base_uri": "https://localhost:8080/"
        },
        "id": "sltXMtQYz-Li",
        "outputId": "3ce5edb2-ed2e-4ef3-f761-c2e2275b936e"
      },
      "execution_count": 35,
      "outputs": [
        {
          "output_type": "stream",
          "name": "stdout",
          "text": [
            "Count of differences per row:\n",
            "0           1\n",
            "1           1\n",
            "2           1\n",
            "3           1\n",
            "4           1\n",
            "         ... \n",
            "24011    1780\n",
            "24012    1385\n",
            "24013    1027\n",
            "24014    1635\n",
            "24015    2044\n",
            "Length: 24016, dtype: int64\n"
          ]
        }
      ]
    },
    {
      "cell_type": "markdown",
      "source": [
        "Não é o caso.\n",
        "\n",
        "Porém uma coisa é interessante, começamos com vários 'uns' e embaixo temos valores bastante altos. E se a maioria das linhas do dataset contém apenas um atributo diferente na comparação?"
      ],
      "metadata": {
        "id": "YiZ4ZbVL0Bu3"
      }
    },
    {
      "cell_type": "code",
      "source": [
        "diff_count = (dfA_drop.ne(dfF_drop)).sum(axis=1)\n",
        "\n",
        "# Print the count of differences per row.\n",
        "print('Count of differences per row:')\n",
        "#print(diff_count)\n",
        "\n",
        "print(diff_count.nsmallest(17295))"
      ],
      "metadata": {
        "colab": {
          "base_uri": "https://localhost:8080/"
        },
        "id": "ciKuNy2t5_gj",
        "outputId": "2452a632-d83c-481d-8461-6506612d613e"
      },
      "execution_count": 36,
      "outputs": [
        {
          "output_type": "stream",
          "name": "stdout",
          "text": [
            "Count of differences per row:\n",
            "0          1\n",
            "1          1\n",
            "2          1\n",
            "3          1\n",
            "4          1\n",
            "        ... \n",
            "17290      1\n",
            "17291      1\n",
            "17292      1\n",
            "22855    494\n",
            "23298    505\n",
            "Length: 17295, dtype: int64\n"
          ]
        }
      ]
    },
    {
      "cell_type": "markdown",
      "source": [
        "17293, cerca de 72% de meu dataset, corresponde a essa suposição, o resto das linhas tendo de 494 a 2380 atributos diferentes. Se quisermos misturar esses datasets essas linhas restantes deverão ser eliminadas"
      ],
      "metadata": {
        "id": "lPLOyYKP0nW6"
      }
    },
    {
      "cell_type": "markdown",
      "source": [
        "Verifico agora a possibilidade de linhas duplicadas:"
      ],
      "metadata": {
        "id": "-VK6c1s76sz7"
      }
    },
    {
      "cell_type": "code",
      "source": [
        "duplicate_entries = df_Aligned.duplicated()\n",
        "print(f'Numero de linhas duplicadas nos df_Aligned e Grouped: {duplicate_entries.sum()}')\n",
        "duplicate_entries = df_Flocking.duplicated()\n",
        "print(f'Numero de linhas duplicadas no df_Flocking: {duplicate_entries.sum()}')"
      ],
      "metadata": {
        "colab": {
          "base_uri": "https://localhost:8080/"
        },
        "id": "U9u7JM4-77qD",
        "outputId": "07087540-0bcb-4a84-9a42-006fac35ba6c"
      },
      "execution_count": 37,
      "outputs": [
        {
          "output_type": "stream",
          "name": "stdout",
          "text": [
            "Numero de linhas duplicadas nos df_Aligned e Grouped: 0\n",
            "Numero de linhas duplicadas no df_Flocking: 0\n"
          ]
        }
      ]
    },
    {
      "cell_type": "markdown",
      "source": [
        "### Gráficos de Balanceamento"
      ],
      "metadata": {
        "id": "0_LcmTDnBSCt"
      }
    },
    {
      "cell_type": "markdown",
      "source": [
        "Por fim, vemos o balanceamento das classes nos dataset"
      ],
      "metadata": {
        "id": "xZTCpZp1B8lE"
      }
    },
    {
      "cell_type": "code",
      "source": [
        "aligned_counts = df_Aligned['Class'].value_counts()\n",
        "flocking_counts = df_Flocking['Class'].value_counts()\n",
        "grouped_counts = df_Grouped['Class'].value_counts()\n",
        "\n",
        "plt.bar(aligned_counts.index, aligned_counts.values, color=['aquamarine','mediumseagreen'])\n",
        "plt.title(\"Aligned Values\")\n",
        "plt.show()\n",
        "\n",
        "plt.bar(flocking_counts.index, flocking_counts.values, color=['xkcd:sky blue', 'xkcd:eggshell'])\n",
        "plt.title(\"Flocking Values\")\n",
        "plt.show()\n",
        "\n",
        "plt.bar(grouped_counts.index, grouped_counts.values, color=['mediumseagreen', 'xkcd:sky blue'])\n",
        "plt.title(\"Grouped Values\")\n",
        "plt.show()"
      ],
      "metadata": {
        "colab": {
          "base_uri": "https://localhost:8080/",
          "height": 1000
        },
        "id": "KQI7e6SdYg5g",
        "outputId": "2f780427-c82c-4a40-9b5b-4b2b139855fa"
      },
      "execution_count": 38,
      "outputs": [
        {
          "output_type": "display_data",
          "data": {
            "text/plain": [
              "<Figure size 640x480 with 1 Axes>"
            ],
            "image/png": "[encoded data removed]"
          },
          "metadata": {}
        },
        {
          "output_type": "display_data",
          "data": {
            "text/plain": [
              "<Figure size 640x480 with 1 Axes>"
            ],
            "image/png": "[encoded data removed]"
          },
          "metadata": {}
        },
        {
          "output_type": "display_data",
          "data": {
            "text/plain": [
              "<Figure size 640x480 with 1 Axes>"
            ],
            "image/png": "[encoded data removed]"
          },
          "metadata": {}
        }
      ]
    },
    {
      "cell_type": "markdown",
      "source": [
        "Para 'Aligned' e 'Grouped', os datasets estão desbalanceados, o primeiro um pouco mais que o segundo.\n",
        "\n",
        "Curiosamente, para Flocking o dataset está perfeitamente balanceado"
      ],
      "metadata": {
        "id": "eKXHNFSOCkdF"
      }
    },
    {
      "cell_type": "code",
      "source": [
        "print(aligned_counts)\n",
        "print(flocking_counts)\n",
        "print(grouped_counts)"
      ],
      "metadata": {
        "colab": {
          "base_uri": "https://localhost:8080/"
        },
        "id": "9qM9IAj5DDIK",
        "outputId": "b3b23c85-13c0-4298-e8b1-8fd60b9a5b0a"
      },
      "execution_count": 39,
      "outputs": [
        {
          "output_type": "stream",
          "name": "stdout",
          "text": [
            "0    16511\n",
            "1     7505\n",
            "Name: Class, dtype: int64\n",
            "0    12008\n",
            "1    12008\n",
            "Name: Class, dtype: int64\n",
            "0    15010\n",
            "1     9006\n",
            "Name: Class, dtype: int64\n"
          ]
        }
      ]
    },
    {
      "cell_type": "markdown",
      "source": [
        "### Testando a possibilidade de misturar as classes e ter um classificador único"
      ],
      "metadata": {
        "id": "JQpgzLc7Ag8N"
      }
    },
    {
      "cell_type": "markdown",
      "source": [
        "A ideia seria ter um classificador que decidiria se o movimento é 'NotAigned, NotGrouped', 'Aligned, NotGrouped', 'NotAligned, Grouped' ou 'Aligned, Grouped' \n",
        "\n",
        "Primeiramente adiciono a coluna de classe do dataframe 'Grouped' no dataframe 'Aligned'"
      ],
      "metadata": {
        "id": "oxUBx4rU_hEl"
      }
    },
    {
      "cell_type": "code",
      "source": [
        "df_Grouped2 = df_Grouped.rename(columns={df_Grouped.columns[-1]: 'Class2'})\n",
        "dfG_class = df_Grouped2['Class2']\n",
        "\n",
        "df_merged = pd.concat([df_Aligned, dfG_class], axis=1)"
      ],
      "metadata": {
        "id": "gKDKyviM3LN7"
      },
      "execution_count": 40,
      "outputs": []
    },
    {
      "cell_type": "markdown",
      "source": [
        "Crio uma coluna adicional com base nessas classes "
      ],
      "metadata": {
        "id": "w5g9lV6p_tIl"
      }
    },
    {
      "cell_type": "code",
      "source": [
        "conditions = [\n",
        "    (df_merged['Class'] == 0) & (df_merged['Class2'] == 0),\n",
        "    (df_merged['Class'] == 1) & (df_merged['Class2'] == 0),\n",
        "    (df_merged['Class'] == 0) & (df_merged['Class2'] == 1),\n",
        "    (df_merged['Class'] == 1) & (df_merged['Class2'] == 1)\n",
        "]\n",
        "\n",
        "values = [0, 1, 2, 3]\n",
        "\n",
        "df_merged['MergedClasses'] = np.select(conditions, values)"
      ],
      "metadata": {
        "colab": {
          "base_uri": "https://localhost:8080/"
        },
        "id": "TYUSr58u6dBc",
        "outputId": "56bb7d2f-7daf-4631-b71c-7b6072fcf881"
      },
      "execution_count": 41,
      "outputs": [
        {
          "output_type": "stream",
          "name": "stderr",
          "text": [
            "<ipython-input-41-a28e4632f454>:10: PerformanceWarning: DataFrame is highly fragmented.  This is usually the result of calling `frame.insert` many times, which has poor performance.  Consider joining all columns at once using pd.concat(axis=1) instead. To get a de-fragmented frame, use `newframe = frame.copy()`\n",
            "  df_merged['MergedClasses'] = np.select(conditions, values)\n"
          ]
        }
      ]
    },
    {
      "cell_type": "markdown",
      "source": [
        "Por fim, faço um gráfico para mostrar as diferentes possibilidades de classificação"
      ],
      "metadata": {
        "id": "2JUKkayuAAml"
      }
    },
    {
      "cell_type": "code",
      "source": [
        "merged_classes_counts = df_merged['MergedClasses'].value_counts()\n",
        "\n",
        "# Create a list of colors for the bars\n",
        "colors = ['#FF5733', '#C70039', '#900C3F', '#581845']\n",
        "\n",
        "# Create a bar plot of the merged classes counts\n",
        "merged_classes_counts.plot(kind='bar', color=colors)\n",
        "\n",
        "# Customize the x-axis tick labels\n",
        "plt.xticks(range(len(merged_classes_counts.index)), ['NotAigned, NotGrouped', 'Aligned, NotGrouped', 'NotAligned, Grouped', 'Aligned, Grouped'])\n",
        "\n",
        "# Add title and labels to the plot\n",
        "plt.title('Merged Classes Counts')\n",
        "plt.xlabel('Merged Class')\n",
        "plt.ylabel('Count')\n",
        "\n",
        "# Show the plot\n",
        "plt.show()"
      ],
      "metadata": {
        "colab": {
          "base_uri": "https://localhost:8080/",
          "height": 623
        },
        "id": "Uh0iWz9R7Ch0",
        "outputId": "e2c0fe6f-08a3-43fb-ca76-704aec9aa3e6"
      },
      "execution_count": 42,
      "outputs": [
        {
          "output_type": "display_data",
          "data": {
            "text/plain": [
              "<Figure size 640x480 with 1 Axes>"
            ],
            "image/png": "[encoded data removed]"
          },
          "metadata": {}
        }
      ]
    },
    {
      "cell_type": "markdown",
      "source": [
        "Temos um desbalanceamento de classes muito grande nesse caso, não acho que seja interessante seguir essa ideia"
      ],
      "metadata": {
        "id": "VMI8pxuxAQ6F"
      }
    }
  ]
}