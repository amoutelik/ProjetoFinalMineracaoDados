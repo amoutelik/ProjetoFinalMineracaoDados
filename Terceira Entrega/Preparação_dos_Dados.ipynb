{
  "nbformat": 4,
  "nbformat_minor": 0,
  "metadata": {
    "colab": {
      "provenance": []
    },
    "kernelspec": {
      "name": "python3",
      "display_name": "Python 3"
    },
    "language_info": {
      "name": "python"
    }
  },
  "cells": [
    {
      "cell_type": "markdown",
      "source": [
        "## Swarm Behaviour Data\n",
        "Projeto Final da disciplina de Soluções em Mineração de Dados\n",
        "\n",
        "Aluno: Andrey Moutelik (arma2)"
      ],
      "metadata": {
        "id": "5hQ0_Oo4E0e_"
      }
    },
    {
      "cell_type": "markdown",
      "source": [
        "### Imports de bibliotecas e datasets"
      ],
      "metadata": {
        "id": "gE-XgZ8KBi-V"
      }
    },
    {
      "cell_type": "markdown",
      "source": [
        "Importando o dataset e as bibliotecas necessárias"
      ],
      "metadata": {
        "id": "MP_r2ao6yvSy"
      }
    },
    {
      "cell_type": "code",
      "source": [
        "!wget https://archive.ics.uci.edu/ml/machine-learning-databases/00524/Swarm%20Behavior%20Data.zip"
      ],
      "metadata": {
        "colab": {
          "base_uri": "https://localhost:8080/"
        },
        "id": "KX6qzpv-vbJb",
        "outputId": "17f159ea-d5ed-40c7-f83b-0c6d62b6eed4"
      },
      "execution_count": 1,
      "outputs": [
        {
          "output_type": "stream",
          "name": "stdout",
          "text": [
            "--2023-04-12 22:42:51--  https://archive.ics.uci.edu/ml/machine-learning-databases/00524/Swarm%20Behavior%20Data.zip\n",
            "Resolving archive.ics.uci.edu (archive.ics.uci.edu)... 128.195.10.252\n",
            "Connecting to archive.ics.uci.edu (archive.ics.uci.edu)|128.195.10.252|:443... connected.\n",
            "HTTP request sent, awaiting response... 200 OK\n",
            "Length: 222915673 (213M) [application/x-httpd-php]\n",
            "Saving to: ‘Swarm Behavior Data.zip’\n",
            "\n",
            "Swarm Behavior Data 100%[===================>] 212.59M  18.8MB/s    in 12s     \n",
            "\n",
            "2023-04-12 22:43:04 (17.2 MB/s) - ‘Swarm Behavior Data.zip’ saved [222915673/222915673]\n",
            "\n"
          ]
        }
      ]
    },
    {
      "cell_type": "code",
      "source": [
        "import numpy as np \n",
        "import pandas as pd\n",
        "import seaborn as sns\n",
        "import matplotlib.pyplot as plt"
      ],
      "metadata": {
        "id": "9uk-1IgKKqC6"
      },
      "execution_count": 2,
      "outputs": []
    },
    {
      "cell_type": "code",
      "execution_count": 3,
      "metadata": {
        "colab": {
          "base_uri": "https://localhost:8080/"
        },
        "id": "SGKM_QNEqujo",
        "outputId": "7768d8fb-4ed3-46aa-8282-a17573c98e8d"
      },
      "outputs": [
        {
          "output_type": "stream",
          "name": "stdout",
          "text": [
            "Done\n"
          ]
        }
      ],
      "source": [
        "from zipfile import ZipFile\n",
        "file_name = \"Swarm Behavior Data.zip\"\n",
        "with ZipFile(file_name,'r') as zip:\n",
        "  zip.extractall()\n",
        "  print('Done')"
      ]
    },
    {
      "cell_type": "markdown",
      "source": [
        "Descrição das features:\n",
        "\n",
        "xm e ym são a posição (X,Y) de cada boid;\n",
        "\n",
        "xVeln e yVeln são o vetor de velocidade;\n",
        "\n",
        "xAm e yAm são o vetor de alinhamento;\n",
        "\n",
        "xSm e ySm são o vetor de separação;\n",
        "\n",
        "xCm e yCm são o vetor de coesão;\n",
        "\n",
        "nACm é o número de boids em um raio de Alinhamento/Coesão;\n",
        "\n",
        "nSm é o número de boids no raio de Separação.\n",
        "\n",
        "Esses atributos são repetidos para todos os m boids, onde m = 1,...,200. (12*200 = 2 400)\n",
        "\n",
        "Resultando em *2400 FEATURES*\n"
      ],
      "metadata": {
        "id": "gYa3XbDlIWHu"
      }
    },
    {
      "cell_type": "code",
      "source": [
        "df_Aligned = pd.read_csv(\"/content/Swarm Behavior Data/Aligned.csv\", low_memory= False)\n",
        "df_Flocking = pd.read_csv(\"/content/Swarm Behavior Data/Flocking.csv\", low_memory= False)\n",
        "df_Grouped = pd.read_csv(\"/content/Swarm Behavior Data/Grouped.csv\", low_memory= False)"
      ],
      "metadata": {
        "id": "Poon_YvOKAMD"
      },
      "execution_count": 4,
      "outputs": []
    },
    {
      "cell_type": "code",
      "source": [
        "# tem um bug no dataset na coluna class de 'Flocking', aqui corrijo isso\n",
        "df_Flocking['Class'] = df_Flocking['Class ']\n",
        "df_Flocking = df_Flocking.drop(['Class '], axis=1)\n",
        "df_Flocking.x1[24015] = 0"
      ],
      "metadata": {
        "colab": {
          "base_uri": "https://localhost:8080/"
        },
        "id": "Ky0jn6_aXwk4",
        "outputId": "4428350c-1573-4cd4-9768-51759e90ebe9"
      },
      "execution_count": 5,
      "outputs": [
        {
          "output_type": "stream",
          "name": "stderr",
          "text": [
            "<ipython-input-5-489a0ac30fd3>:4: SettingWithCopyWarning: \n",
            "A value is trying to be set on a copy of a slice from a DataFrame\n",
            "\n",
            "See the caveats in the documentation: https://pandas.pydata.org/pandas-docs/stable/user_guide/indexing.html#returning-a-view-versus-a-copy\n",
            "  df_Flocking.x1[24015] = 0\n"
          ]
        }
      ]
    },
    {
      "cell_type": "code",
      "source": [
        "df_Flocking.describe()"
      ],
      "metadata": {
        "colab": {
          "base_uri": "https://localhost:8080/",
          "height": 393
        },
        "id": "9bG4acZ5W2Bn",
        "outputId": "e546a605-e357-4020-ddda-03c1594c9b6e"
      },
      "execution_count": 6,
      "outputs": [
        {
          "output_type": "execute_result",
          "data": {
            "text/plain": [
              "                 y1         xVel1         yVel1           xA1           yA1  \\\n",
              "count  24016.000000  24016.000000  24016.000000  24016.000000  24016.000000   \n",
              "mean     -73.077114     -0.737331      0.041984     -0.148090      0.151028   \n",
              "std      572.552115      6.445250      7.374884      0.377028      0.590219   \n",
              "min    -1012.180000    -18.590000    -18.410000     -1.000000     -1.000000   \n",
              "25%     -609.352500     -5.520000     -5.710000     -0.230000     -0.010000   \n",
              "50%     -156.685000     -0.460000     -1.600000      0.000000      0.000000   \n",
              "75%      424.445000      3.820000      7.310000      0.000000      0.940000   \n",
              "max     1015.800000     18.470000     18.630000      1.000000      1.040000   \n",
              "\n",
              "                xS1           yS1           xC1           yC1          nAC1  \\\n",
              "count  24016.000000  24016.000000  24016.000000  24016.000000  24016.000000   \n",
              "mean      -1.217209     -0.835799     -0.035581      0.075808     19.029772   \n",
              "std       27.762943     21.669753      0.558147      0.626971     23.233237   \n",
              "min     -944.070000   -847.910000     -2.680000     -2.680000      0.000000   \n",
              "25%        0.000000      0.000000     -0.040000     -0.020000      3.000000   \n",
              "50%        0.000000      0.000000      0.000000      0.000000      8.000000   \n",
              "75%        0.000000      0.000000      0.000000      0.020000     31.000000   \n",
              "max       68.560000    234.740000      2.680000      2.680000    157.000000   \n",
              "\n",
              "       ...       yVel200         xA200         yA200         xS200  \\\n",
              "count  ...  24016.000000  24016.000000  24016.000000  24016.000000   \n",
              "mean   ...      0.065710     -0.125927      0.127226     -1.660584   \n",
              "std    ...      7.709457      0.380757      0.571121     77.201164   \n",
              "min    ...    -18.440000     -1.040000     -1.000000  -4079.230000   \n",
              "25%    ...     -5.620000     -0.190000      0.000000      0.000000   \n",
              "50%    ...     -0.740000      0.000000      0.000000      0.000000   \n",
              "75%    ...      7.480000      0.000000      0.540000      0.000000   \n",
              "max    ...     18.530000      1.000000      1.040000    255.990000   \n",
              "\n",
              "              yS200         xC200         yC200        nAC200        nS200  \\\n",
              "count  24016.000000  24016.000000  24016.000000  24016.000000  24016.00000   \n",
              "mean      -0.095942     -0.017049      0.085548     26.258744      2.14736   \n",
              "std        7.362780      0.551924      0.613370     33.997001      7.53273   \n",
              "min     -370.240000     -2.680000     -2.680000      0.000000      0.00000   \n",
              "25%        0.000000     -0.072500      0.000000      2.000000      0.00000   \n",
              "50%        0.000000      0.000000      0.000000     12.000000      0.00000   \n",
              "75%        0.000000      0.000000      0.020000     35.000000      1.00000   \n",
              "max       68.940000      2.680000      2.680000    142.000000     65.00000   \n",
              "\n",
              "             Class  \n",
              "count  24016.00000  \n",
              "mean       0.50000  \n",
              "std        0.50001  \n",
              "min        0.00000  \n",
              "25%        0.00000  \n",
              "50%        0.50000  \n",
              "75%        1.00000  \n",
              "max        1.00000  \n",
              "\n",
              "[8 rows x 2400 columns]"
            ],
            "text/html": [
              "\n",
              "  <div id=\"df-614add5d-1360-4fb6-b0f8-938ed4a6826e\">\n",
              "    <div class=\"colab-df-container\">\n",
              "      <div>\n",
              "<style scoped>\n",
              "    .dataframe tbody tr th:only-of-type {\n",
              "        vertical-align: middle;\n",
              "    }\n",
              "\n",
              "    .dataframe tbody tr th {\n",
              "        vertical-align: top;\n",
              "    }\n",
              "\n",
              "    .dataframe thead th {\n",
              "        text-align: right;\n",
              "    }\n",
              "</style>\n",
              "<table border=\"1\" class=\"dataframe\">\n",
              "  <thead>\n",
              "    <tr style=\"text-align: right;\">\n",
              "      <th></th>\n",
              "      <th>y1</th>\n",
              "      <th>xVel1</th>\n",
              "      <th>yVel1</th>\n",
              "      <th>xA1</th>\n",
              "      <th>yA1</th>\n",
              "      <th>xS1</th>\n",
              "      <th>yS1</th>\n",
              "      <th>xC1</th>\n",
              "      <th>yC1</th>\n",
              "      <th>nAC1</th>\n",
              "      <th>...</th>\n",
              "      <th>yVel200</th>\n",
              "      <th>xA200</th>\n",
              "      <th>yA200</th>\n",
              "      <th>xS200</th>\n",
              "      <th>yS200</th>\n",
              "      <th>xC200</th>\n",
              "      <th>yC200</th>\n",
              "      <th>nAC200</th>\n",
              "      <th>nS200</th>\n",
              "      <th>Class</th>\n",
              "    </tr>\n",
              "  </thead>\n",
              "  <tbody>\n",
              "    <tr>\n",
              "      <th>count</th>\n",
              "      <td>24016.000000</td>\n",
              "      <td>24016.000000</td>\n",
              "      <td>24016.000000</td>\n",
              "      <td>24016.000000</td>\n",
              "      <td>24016.000000</td>\n",
              "      <td>24016.000000</td>\n",
              "      <td>24016.000000</td>\n",
              "      <td>24016.000000</td>\n",
              "      <td>24016.000000</td>\n",
              "      <td>24016.000000</td>\n",
              "      <td>...</td>\n",
              "      <td>24016.000000</td>\n",
              "      <td>24016.000000</td>\n",
              "      <td>24016.000000</td>\n",
              "      <td>24016.000000</td>\n",
              "      <td>24016.000000</td>\n",
              "      <td>24016.000000</td>\n",
              "      <td>24016.000000</td>\n",
              "      <td>24016.000000</td>\n",
              "      <td>24016.00000</td>\n",
              "      <td>24016.00000</td>\n",
              "    </tr>\n",
              "    <tr>\n",
              "      <th>mean</th>\n",
              "      <td>-73.077114</td>\n",
              "      <td>-0.737331</td>\n",
              "      <td>0.041984</td>\n",
              "      <td>-0.148090</td>\n",
              "      <td>0.151028</td>\n",
              "      <td>-1.217209</td>\n",
              "      <td>-0.835799</td>\n",
              "      <td>-0.035581</td>\n",
              "      <td>0.075808</td>\n",
              "      <td>19.029772</td>\n",
              "      <td>...</td>\n",
              "      <td>0.065710</td>\n",
              "      <td>-0.125927</td>\n",
              "      <td>0.127226</td>\n",
              "      <td>-1.660584</td>\n",
              "      <td>-0.095942</td>\n",
              "      <td>-0.017049</td>\n",
              "      <td>0.085548</td>\n",
              "      <td>26.258744</td>\n",
              "      <td>2.14736</td>\n",
              "      <td>0.50000</td>\n",
              "    </tr>\n",
              "    <tr>\n",
              "      <th>std</th>\n",
              "      <td>572.552115</td>\n",
              "      <td>6.445250</td>\n",
              "      <td>7.374884</td>\n",
              "      <td>0.377028</td>\n",
              "      <td>0.590219</td>\n",
              "      <td>27.762943</td>\n",
              "      <td>21.669753</td>\n",
              "      <td>0.558147</td>\n",
              "      <td>0.626971</td>\n",
              "      <td>23.233237</td>\n",
              "      <td>...</td>\n",
              "      <td>7.709457</td>\n",
              "      <td>0.380757</td>\n",
              "      <td>0.571121</td>\n",
              "      <td>77.201164</td>\n",
              "      <td>7.362780</td>\n",
              "      <td>0.551924</td>\n",
              "      <td>0.613370</td>\n",
              "      <td>33.997001</td>\n",
              "      <td>7.53273</td>\n",
              "      <td>0.50001</td>\n",
              "    </tr>\n",
              "    <tr>\n",
              "      <th>min</th>\n",
              "      <td>-1012.180000</td>\n",
              "      <td>-18.590000</td>\n",
              "      <td>-18.410000</td>\n",
              "      <td>-1.000000</td>\n",
              "      <td>-1.000000</td>\n",
              "      <td>-944.070000</td>\n",
              "      <td>-847.910000</td>\n",
              "      <td>-2.680000</td>\n",
              "      <td>-2.680000</td>\n",
              "      <td>0.000000</td>\n",
              "      <td>...</td>\n",
              "      <td>-18.440000</td>\n",
              "      <td>-1.040000</td>\n",
              "      <td>-1.000000</td>\n",
              "      <td>-4079.230000</td>\n",
              "      <td>-370.240000</td>\n",
              "      <td>-2.680000</td>\n",
              "      <td>-2.680000</td>\n",
              "      <td>0.000000</td>\n",
              "      <td>0.00000</td>\n",
              "      <td>0.00000</td>\n",
              "    </tr>\n",
              "    <tr>\n",
              "      <th>25%</th>\n",
              "      <td>-609.352500</td>\n",
              "      <td>-5.520000</td>\n",
              "      <td>-5.710000</td>\n",
              "      <td>-0.230000</td>\n",
              "      <td>-0.010000</td>\n",
              "      <td>0.000000</td>\n",
              "      <td>0.000000</td>\n",
              "      <td>-0.040000</td>\n",
              "      <td>-0.020000</td>\n",
              "      <td>3.000000</td>\n",
              "      <td>...</td>\n",
              "      <td>-5.620000</td>\n",
              "      <td>-0.190000</td>\n",
              "      <td>0.000000</td>\n",
              "      <td>0.000000</td>\n",
              "      <td>0.000000</td>\n",
              "      <td>-0.072500</td>\n",
              "      <td>0.000000</td>\n",
              "      <td>2.000000</td>\n",
              "      <td>0.00000</td>\n",
              "      <td>0.00000</td>\n",
              "    </tr>\n",
              "    <tr>\n",
              "      <th>50%</th>\n",
              "      <td>-156.685000</td>\n",
              "      <td>-0.460000</td>\n",
              "      <td>-1.600000</td>\n",
              "      <td>0.000000</td>\n",
              "      <td>0.000000</td>\n",
              "      <td>0.000000</td>\n",
              "      <td>0.000000</td>\n",
              "      <td>0.000000</td>\n",
              "      <td>0.000000</td>\n",
              "      <td>8.000000</td>\n",
              "      <td>...</td>\n",
              "      <td>-0.740000</td>\n",
              "      <td>0.000000</td>\n",
              "      <td>0.000000</td>\n",
              "      <td>0.000000</td>\n",
              "      <td>0.000000</td>\n",
              "      <td>0.000000</td>\n",
              "      <td>0.000000</td>\n",
              "      <td>12.000000</td>\n",
              "      <td>0.00000</td>\n",
              "      <td>0.50000</td>\n",
              "    </tr>\n",
              "    <tr>\n",
              "      <th>75%</th>\n",
              "      <td>424.445000</td>\n",
              "      <td>3.820000</td>\n",
              "      <td>7.310000</td>\n",
              "      <td>0.000000</td>\n",
              "      <td>0.940000</td>\n",
              "      <td>0.000000</td>\n",
              "      <td>0.000000</td>\n",
              "      <td>0.000000</td>\n",
              "      <td>0.020000</td>\n",
              "      <td>31.000000</td>\n",
              "      <td>...</td>\n",
              "      <td>7.480000</td>\n",
              "      <td>0.000000</td>\n",
              "      <td>0.540000</td>\n",
              "      <td>0.000000</td>\n",
              "      <td>0.000000</td>\n",
              "      <td>0.000000</td>\n",
              "      <td>0.020000</td>\n",
              "      <td>35.000000</td>\n",
              "      <td>1.00000</td>\n",
              "      <td>1.00000</td>\n",
              "    </tr>\n",
              "    <tr>\n",
              "      <th>max</th>\n",
              "      <td>1015.800000</td>\n",
              "      <td>18.470000</td>\n",
              "      <td>18.630000</td>\n",
              "      <td>1.000000</td>\n",
              "      <td>1.040000</td>\n",
              "      <td>68.560000</td>\n",
              "      <td>234.740000</td>\n",
              "      <td>2.680000</td>\n",
              "      <td>2.680000</td>\n",
              "      <td>157.000000</td>\n",
              "      <td>...</td>\n",
              "      <td>18.530000</td>\n",
              "      <td>1.000000</td>\n",
              "      <td>1.040000</td>\n",
              "      <td>255.990000</td>\n",
              "      <td>68.940000</td>\n",
              "      <td>2.680000</td>\n",
              "      <td>2.680000</td>\n",
              "      <td>142.000000</td>\n",
              "      <td>65.00000</td>\n",
              "      <td>1.00000</td>\n",
              "    </tr>\n",
              "  </tbody>\n",
              "</table>\n",
              "<p>8 rows × 2400 columns</p>\n",
              "</div>\n",
              "      <button class=\"colab-df-convert\" onclick=\"convertToInteractive('df-614add5d-1360-4fb6-b0f8-938ed4a6826e')\"\n",
              "              title=\"Convert this dataframe to an interactive table.\"\n",
              "              style=\"display:none;\">\n",
              "        \n",
              "  <svg xmlns=\"http://www.w3.org/2000/svg\" height=\"24px\"viewBox=\"0 0 24 24\"\n",
              "       width=\"24px\">\n",
              "    <path d=\"M0 0h24v24H0V0z\" fill=\"none\"/>\n",
              "    <path d=\"M18.56 5.44l.94 2.06.94-2.06 2.06-.94-2.06-.94-.94-2.06-.94 2.06-2.06.94zm-11 1L8.5 8.5l.94-2.06 2.06-.94-2.06-.94L8.5 2.5l-.94 2.06-2.06.94zm10 10l.94 2.06.94-2.06 2.06-.94-2.06-.94-.94-2.06-.94 2.06-2.06.94z\"/><path d=\"M17.41 7.96l-1.37-1.37c-.4-.4-.92-.59-1.43-.59-.52 0-1.04.2-1.43.59L10.3 9.45l-7.72 7.72c-.78.78-.78 2.05 0 2.83L4 21.41c.39.39.9.59 1.41.59.51 0 1.02-.2 1.41-.59l7.78-7.78 2.81-2.81c.8-.78.8-2.07 0-2.86zM5.41 20L4 18.59l7.72-7.72 1.47 1.35L5.41 20z\"/>\n",
              "  </svg>\n",
              "      </button>\n",
              "      \n",
              "  <style>\n",
              "    .colab-df-container {\n",
              "      display:flex;\n",
              "      flex-wrap:wrap;\n",
              "      gap: 12px;\n",
              "    }\n",
              "\n",
              "    .colab-df-convert {\n",
              "      background-color: #E8F0FE;\n",
              "      border: none;\n",
              "      border-radius: 50%;\n",
              "      cursor: pointer;\n",
              "      display: none;\n",
              "      fill: #1967D2;\n",
              "      height: 32px;\n",
              "      padding: 0 0 0 0;\n",
              "      width: 32px;\n",
              "    }\n",
              "\n",
              "    .colab-df-convert:hover {\n",
              "      background-color: #E2EBFA;\n",
              "      box-shadow: 0px 1px 2px rgba(60, 64, 67, 0.3), 0px 1px 3px 1px rgba(60, 64, 67, 0.15);\n",
              "      fill: #174EA6;\n",
              "    }\n",
              "\n",
              "    [theme=dark] .colab-df-convert {\n",
              "      background-color: #3B4455;\n",
              "      fill: #D2E3FC;\n",
              "    }\n",
              "\n",
              "    [theme=dark] .colab-df-convert:hover {\n",
              "      background-color: #434B5C;\n",
              "      box-shadow: 0px 1px 3px 1px rgba(0, 0, 0, 0.15);\n",
              "      filter: drop-shadow(0px 1px 2px rgba(0, 0, 0, 0.3));\n",
              "      fill: #FFFFFF;\n",
              "    }\n",
              "  </style>\n",
              "\n",
              "      <script>\n",
              "        const buttonEl =\n",
              "          document.querySelector('#df-614add5d-1360-4fb6-b0f8-938ed4a6826e button.colab-df-convert');\n",
              "        buttonEl.style.display =\n",
              "          google.colab.kernel.accessAllowed ? 'block' : 'none';\n",
              "\n",
              "        async function convertToInteractive(key) {\n",
              "          const element = document.querySelector('#df-614add5d-1360-4fb6-b0f8-938ed4a6826e');\n",
              "          const dataTable =\n",
              "            await google.colab.kernel.invokeFunction('convertToInteractive',\n",
              "                                                     [key], {});\n",
              "          if (!dataTable) return;\n",
              "\n",
              "          const docLinkHtml = 'Like what you see? Visit the ' +\n",
              "            '<a target=\"_blank\" href=https://colab.research.google.com/notebooks/data_table.ipynb>data table notebook</a>'\n",
              "            + ' to learn more about interactive tables.';\n",
              "          element.innerHTML = '';\n",
              "          dataTable['output_type'] = 'display_data';\n",
              "          await google.colab.output.renderOutput(dataTable, element);\n",
              "          const docLink = document.createElement('div');\n",
              "          docLink.innerHTML = docLinkHtml;\n",
              "          element.appendChild(docLink);\n",
              "        }\n",
              "      </script>\n",
              "    </div>\n",
              "  </div>\n",
              "  "
            ]
          },
          "metadata": {},
          "execution_count": 6
        }
      ]
    },
    {
      "cell_type": "markdown",
      "source": [
        "### Checagem de valores faltantes, valores duplicados, e paridade entre os datasets"
      ],
      "metadata": {
        "id": "N3VXyXIaBxb-"
      }
    },
    {
      "cell_type": "markdown",
      "source": [
        "Checar valores faltantes nos datasets"
      ],
      "metadata": {
        "id": "uQUIA8p884zT"
      }
    },
    {
      "cell_type": "code",
      "source": [
        "missing_aligned_values = df_Aligned.isna().sum()\n",
        "print(\"Valores Faltando do dataset Aligned\")\n",
        "print(missing_aligned_values)\n",
        "\n",
        "missing_flocking_values = df_Flocking.isna().sum()\n",
        "print(\"Valores Faltando do dataset Flocking\")\n",
        "print(missing_flocking_values)\n",
        "\n",
        "missing_grouped_values = df_Grouped.isna().sum()\n",
        "print(\"Valores Faltando do dataset Grouped\")\n",
        "print(missing_grouped_values)"
      ],
      "metadata": {
        "colab": {
          "base_uri": "https://localhost:8080/"
        },
        "id": "vDvpAgsuVz_3",
        "outputId": "38abbd99-4d10-4415-edec-8f60b11fa85e"
      },
      "execution_count": 7,
      "outputs": [
        {
          "output_type": "stream",
          "name": "stdout",
          "text": [
            "Valores Faltando do dataset Aligned\n",
            "x1        0\n",
            "y1        0\n",
            "xVel1     0\n",
            "yVel1     0\n",
            "xA1       0\n",
            "         ..\n",
            "xC200     0\n",
            "yC200     0\n",
            "nAC200    0\n",
            "nS200     0\n",
            "Class     0\n",
            "Length: 2401, dtype: int64\n",
            "Valores Faltando do dataset Flocking\n",
            "x1        0\n",
            "y1        0\n",
            "xVel1     0\n",
            "yVel1     0\n",
            "xA1       0\n",
            "         ..\n",
            "xC200     0\n",
            "yC200     0\n",
            "nAC200    0\n",
            "nS200     0\n",
            "Class     0\n",
            "Length: 2401, dtype: int64\n",
            "Valores Faltando do dataset Grouped\n",
            "x1        0\n",
            "y1        0\n",
            "xVel1     0\n",
            "yVel1     0\n",
            "xA1       0\n",
            "         ..\n",
            "xC200     0\n",
            "yC200     0\n",
            "nAC200    0\n",
            "nS200     0\n",
            "Class     0\n",
            "Length: 2401, dtype: int64\n"
          ]
        }
      ]
    },
    {
      "cell_type": "markdown",
      "source": [
        "Devido a estrutura dos datasets eu assumo que, com exceção da última coluna os três são identicos\n",
        "\n",
        "Aqui eu faço a checagem dessa hipótese"
      ],
      "metadata": {
        "id": "Cg3udRCn9Lr8"
      }
    },
    {
      "cell_type": "code",
      "source": [
        "dfA_drop = df_Aligned.iloc[:, :-1]\n",
        "dfF_drop = df_Flocking.iloc[:, :-1]\n",
        "dfG_drop = df_Grouped.iloc[:, :-1]\n",
        "are_equal = dfA_drop.equals(dfF_drop)\n",
        "\n",
        "# Print the result.\n",
        "print(f'Os DataFrames Aligned e Flocking são iguais? {are_equal}')\n",
        "\n",
        "are_equal = dfA_drop.equals(dfG_drop)\n",
        "print(f'Os DataFrames Aligned e Grouped são iguais? {are_equal}')"
      ],
      "metadata": {
        "colab": {
          "base_uri": "https://localhost:8080/"
        },
        "id": "80v_fuhH0cI6",
        "outputId": "0f7ddd45-a4b9-4f77-a649-df0fc12917b4"
      },
      "execution_count": 8,
      "outputs": [
        {
          "output_type": "stream",
          "name": "stdout",
          "text": [
            "Os DataFrames Aligned e Flocking são iguais? False\n",
            "Os DataFrames Aligned e Grouped são iguais? True\n"
          ]
        }
      ]
    },
    {
      "cell_type": "markdown",
      "source": [
        "A suposição estava parcialmente correta, os valores dos datasets Aligned e Grouped são iguais, porém os de Flocking são diferentes "
      ],
      "metadata": {
        "id": "GVZVDFm8-b-s"
      }
    },
    {
      "cell_type": "code",
      "source": [
        "diff = dfA_drop.compare(dfF_drop)\n",
        "num_diff = len(diff)\n",
        "print(f'Os DataFrames Aligned e Flocking tem {num_diff} valores diferentes.')"
      ],
      "metadata": {
        "colab": {
          "base_uri": "https://localhost:8080/"
        },
        "id": "uDtN3dhT1xHy",
        "outputId": "c6de28bd-a15b-4260-ec52-540454cc9498"
      },
      "execution_count": 9,
      "outputs": [
        {
          "output_type": "stream",
          "name": "stdout",
          "text": [
            "Os DataFrames Aligned e Flocking tem 24016 valores diferentes.\n"
          ]
        }
      ]
    },
    {
      "cell_type": "markdown",
      "source": [
        "Curiosamente, os datasets tem 24016 valores diferentes, o que corresponde exatamente ao número de linhas neles contidos\n",
        "\n",
        "Vai que apenas uma linha é diferente entre os dois datasets?\n",
        "\n",
        "Testo em seguida essa possibilidade:"
      ],
      "metadata": {
        "id": "5cnx3a7e-qrF"
      }
    },
    {
      "cell_type": "code",
      "source": [
        "diff_count = (dfA_drop.ne(dfF_drop)).sum(axis=1)\n",
        "\n",
        "# Print the count of differences per row.\n",
        "print('Count of differences per row:')\n",
        "print(diff_count)"
      ],
      "metadata": {
        "colab": {
          "base_uri": "https://localhost:8080/"
        },
        "id": "sltXMtQYz-Li",
        "outputId": "e6e1b30e-3a03-4f51-bf37-13d6026d68fb"
      },
      "execution_count": 10,
      "outputs": [
        {
          "output_type": "stream",
          "name": "stdout",
          "text": [
            "Count of differences per row:\n",
            "0           1\n",
            "1           1\n",
            "2           1\n",
            "3           1\n",
            "4           1\n",
            "         ... \n",
            "24011    1780\n",
            "24012    1385\n",
            "24013    1027\n",
            "24014    1635\n",
            "24015    2044\n",
            "Length: 24016, dtype: int64\n"
          ]
        }
      ]
    },
    {
      "cell_type": "markdown",
      "source": [
        "Não é o caso.\n",
        "\n",
        "Porém uma coisa é interessante, começamos com vários 'uns' e embaixo temos valores bastante altos. E se a maioria das linhas do dataset contém apenas um atributo diferente na comparação?"
      ],
      "metadata": {
        "id": "YiZ4ZbVL0Bu3"
      }
    },
    {
      "cell_type": "code",
      "source": [
        "diff_count = (dfA_drop.ne(dfF_drop)).sum(axis=1)\n",
        "\n",
        "# Print the count of differences per row.\n",
        "print('Count of differences per row:')\n",
        "#print(diff_count)\n",
        "\n",
        "print(diff_count.nsmallest(17295))"
      ],
      "metadata": {
        "colab": {
          "base_uri": "https://localhost:8080/"
        },
        "id": "ciKuNy2t5_gj",
        "outputId": "a2b973d0-4c36-4fa7-e4ba-22acf5ee8f2a"
      },
      "execution_count": 11,
      "outputs": [
        {
          "output_type": "stream",
          "name": "stdout",
          "text": [
            "Count of differences per row:\n",
            "0          1\n",
            "1          1\n",
            "2          1\n",
            "3          1\n",
            "4          1\n",
            "        ... \n",
            "17290      1\n",
            "17291      1\n",
            "17292      1\n",
            "22855    494\n",
            "23298    505\n",
            "Length: 17295, dtype: int64\n"
          ]
        }
      ]
    },
    {
      "cell_type": "markdown",
      "source": [
        "17293, cerca de 72% de meu dataset, corresponde a essa suposição, o resto das linhas tendo de 494 a 2380 atributos diferentes. Se quisermos misturar esses datasets essas linhas restantes deverão ser eliminadas"
      ],
      "metadata": {
        "id": "lPLOyYKP0nW6"
      }
    },
    {
      "cell_type": "markdown",
      "source": [
        "Verifico agora a possibilidade de linhas duplicadas:"
      ],
      "metadata": {
        "id": "-VK6c1s76sz7"
      }
    },
    {
      "cell_type": "code",
      "source": [
        "duplicate_entries = df_Aligned.duplicated()\n",
        "print(f'Numero de linhas duplicadas nos df_Aligned e Grouped: {duplicate_entries.sum()}')\n",
        "duplicate_entries = df_Flocking.duplicated()\n",
        "print(f'Numero de linhas duplicadas no df_Flocking: {duplicate_entries.sum()}')"
      ],
      "metadata": {
        "colab": {
          "base_uri": "https://localhost:8080/"
        },
        "id": "U9u7JM4-77qD",
        "outputId": "fb72fd2b-16b1-4b67-fe8f-cce97887ba47"
      },
      "execution_count": 12,
      "outputs": [
        {
          "output_type": "stream",
          "name": "stdout",
          "text": [
            "Numero de linhas duplicadas nos df_Aligned e Grouped: 0\n",
            "Numero de linhas duplicadas no df_Flocking: 0\n"
          ]
        }
      ]
    },
    {
      "cell_type": "markdown",
      "source": [
        "### Gráficos de Balanceamento"
      ],
      "metadata": {
        "id": "0_LcmTDnBSCt"
      }
    },
    {
      "cell_type": "markdown",
      "source": [
        "Por fim, vemos o balanceamento das classes nos dataset"
      ],
      "metadata": {
        "id": "xZTCpZp1B8lE"
      }
    },
    {
      "cell_type": "code",
      "source": [
        "aligned_counts = df_Aligned['Class'].value_counts()\n",
        "flocking_counts = df_Flocking['Class'].value_counts()\n",
        "grouped_counts = df_Grouped['Class'].value_counts()\n",
        "\n",
        "plt.bar(aligned_counts.index, aligned_counts.values, color=['aquamarine','mediumseagreen'])\n",
        "plt.title(\"Aligned Values\")\n",
        "plt.show()\n",
        "\n",
        "plt.bar(flocking_counts.index, flocking_counts.values, color=['xkcd:sky blue', 'xkcd:eggshell'])\n",
        "plt.title(\"Flocking Values\")\n",
        "plt.show()\n",
        "\n",
        "plt.bar(grouped_counts.index, grouped_counts.values, color=['mediumseagreen', 'xkcd:sky blue'])\n",
        "plt.title(\"Grouped Values\")\n",
        "plt.show()"
      ],
      "metadata": {
        "colab": {
          "base_uri": "https://localhost:8080/",
          "height": 1000
        },
        "id": "KQI7e6SdYg5g",
        "outputId": "b099c6f8-d1d5-4279-b10c-a639d530170e"
      },
      "execution_count": 13,
      "outputs": [
        {
          "output_type": "display_data",
          "data": {
            "text/plain": [
              "<Figure size 640x480 with 1 Axes>"
            ],
            "image/png": "[encoded data removed]"
          },
          "metadata": {}
        },
        {
          "output_type": "display_data",
          "data": {
            "text/plain": [
              "<Figure size 640x480 with 1 Axes>"
            ],
            "image/png": "[encoded data removed]"
          },
          "metadata": {}
        },
        {
          "output_type": "display_data",
          "data": {
            "text/plain": [
              "<Figure size 640x480 with 1 Axes>"
            ],
            "image/png": "[encoded data removed]"
          },
          "metadata": {}
        }
      ]
    },
    {
      "cell_type": "markdown",
      "source": [
        "Para 'Aligned' e 'Grouped', os datasets estão desbalanceados, o primeiro um pouco mais que o segundo.\n",
        "\n",
        "Curiosamente, para Flocking o dataset está perfeitamente balanceado"
      ],
      "metadata": {
        "id": "eKXHNFSOCkdF"
      }
    },
    {
      "cell_type": "code",
      "source": [
        "print(aligned_counts)\n",
        "print(flocking_counts)\n",
        "print(grouped_counts)"
      ],
      "metadata": {
        "colab": {
          "base_uri": "https://localhost:8080/"
        },
        "id": "9qM9IAj5DDIK",
        "outputId": "ff1273ce-8a8d-46df-db80-025871a6071f"
      },
      "execution_count": 14,
      "outputs": [
        {
          "output_type": "stream",
          "name": "stdout",
          "text": [
            "0    16511\n",
            "1     7505\n",
            "Name: Class, dtype: int64\n",
            "0    12008\n",
            "1    12008\n",
            "Name: Class, dtype: int64\n",
            "0    15010\n",
            "1     9006\n",
            "Name: Class, dtype: int64\n"
          ]
        }
      ]
    },
    {
      "cell_type": "markdown",
      "source": [
        "### Dividindo o dataset em Train e Test"
      ],
      "metadata": {
        "id": "llaL7BpFCvro"
      }
    },
    {
      "cell_type": "markdown",
      "source": [
        "Primeiramente, para essa etapa do projeto, vou optar por tratar apenas de um dataset: o de 'Aligned'. O processo de preparação de dados é práticamente identico para todos eles ('Flocking' porém não precisará de balanceamento), e poderá ser facilmente replicado depois"
      ],
      "metadata": {
        "id": "PWxWqV4PgUTm"
      }
    },
    {
      "cell_type": "markdown",
      "source": [
        "A separação do dataset é feita logo no começo pois não queremos aplicar as técnicas de sampling no subset de teste. Isso poderia resultar em um bias indesejado no dataset, e estimativas de performance muito otimistas"
      ],
      "metadata": {
        "id": "d8Qo8EP2ZMM8"
      }
    },
    {
      "cell_type": "code",
      "source": [
        "from sklearn.model_selection import train_test_split\n",
        "\n",
        "y = df_Aligned[\"Class\"]\n",
        "X = df_Aligned.drop(\"Class\", axis=1)"
      ],
      "metadata": {
        "id": "jIWPRxU6C3pj"
      },
      "execution_count": 85,
      "outputs": []
    },
    {
      "cell_type": "markdown",
      "source": [
        "A porcentagem de split para teste não tem um valor exato, mas geralmente é 20 ou 30%. Neste caso, considerando a quantidade de entradas e que o dataset de treino diminuirá de tamanho devido ao undersampling, optei por usar 20%"
      ],
      "metadata": {
        "id": "nGiMuhq4aEEE"
      }
    },
    {
      "cell_type": "code",
      "source": [
        "X_train, X_test, y_train, y_test = train_test_split(X, y, test_size=0.2, random_state=42)"
      ],
      "metadata": {
        "id": "4CPZnhjBGqRZ"
      },
      "execution_count": 86,
      "outputs": []
    },
    {
      "cell_type": "code",
      "source": [
        "print(f\"Shape of X_train: {X_train.shape}\")\n",
        "print(f\"Shape of X_test: {X_test.shape}\")\n",
        "print(f\"Shape of y_train_resampled: {y_train.shape}\")\n",
        "print(f\"Shape of y_test: {y_test.shape}\")"
      ],
      "metadata": {
        "colab": {
          "base_uri": "https://localhost:8080/"
        },
        "id": "z6ZKdwMRQHWy",
        "outputId": "2354a7b6-7200-4695-b662-72342ed2ad07"
      },
      "execution_count": 87,
      "outputs": [
        {
          "output_type": "stream",
          "name": "stdout",
          "text": [
            "Shape of X_train: (19212, 2400)\n",
            "Shape of X_test: (4804, 2400)\n",
            "Shape of y_train_resampled: (19212,)\n",
            "Shape of y_test: (4804,)\n"
          ]
        }
      ]
    },
    {
      "cell_type": "markdown",
      "source": [
        "### Undersampling e Oversampling"
      ],
      "metadata": {
        "id": "KesSPjsIwz27"
      }
    },
    {
      "cell_type": "markdown",
      "source": [
        "O balanceamento será corrigido por meio de Undersampling seguido por Oversampling por SMOTE, com a intenção de resultar em um balanceamento de 50:50\n",
        "\n",
        "Aqui optei por considerar o parâmetro de sampling_strategy no Undersampling como 0.7. Esse valor escolhi por me parecer adequado, mas posso modificá-lo no futuro se resultar em uma performance melhor nos modelos"
      ],
      "metadata": {
        "id": "979AETuUaz41"
      }
    },
    {
      "cell_type": "code",
      "source": [
        "from imblearn.over_sampling import SMOTE\n",
        "from imblearn.under_sampling import RandomUnderSampler\n",
        "\n",
        "samplingNum = 0.7\n",
        "\n",
        "rus = RandomUnderSampler(sampling_strategy= samplingNum, random_state=42)\n",
        "X_train_resampled, y_train_resampled = rus.fit_resample(X_train, y_train)\n",
        "\n",
        "# Print the number of samples in each class after undersampling\n",
        "print(\"Number of samples in each class after undersampling:\")\n",
        "print(y_train_resampled.value_counts())\n",
        "\n",
        "# Apply oversampling to the resampled training set\n",
        "smote = SMOTE(random_state=42)\n",
        "X_train_resampled, y_train_resampled = smote.fit_resample(X_train_resampled, y_train_resampled)\n",
        "\n",
        "# Print the number of samples in each class after oversampling\n",
        "print(\"Number of samples in each class after oversampling:\")\n",
        "print(y_train_resampled.value_counts())"
      ],
      "metadata": {
        "colab": {
          "base_uri": "https://localhost:8080/"
        },
        "id": "t2GJpkRgHF16",
        "outputId": "533d71dd-6b88-4768-9202-e2eaf018d6ea"
      },
      "execution_count": 88,
      "outputs": [
        {
          "output_type": "stream",
          "name": "stdout",
          "text": [
            "Number of samples in each class after undersampling:\n",
            "0    8615\n",
            "1    6031\n",
            "Name: Class, dtype: int64\n",
            "Number of samples in each class after oversampling:\n",
            "0    8615\n",
            "1    8615\n",
            "Name: Class, dtype: int64\n"
          ]
        }
      ]
    },
    {
      "cell_type": "markdown",
      "source": [
        "### PCA"
      ],
      "metadata": {
        "id": "4b5QeDwUnPDH"
      }
    },
    {
      "cell_type": "markdown",
      "source": [
        "Por fim, aplicarei PCA, Principal Component Analysis, a fim de reduzir o número de features do dataset"
      ],
      "metadata": {
        "id": "wYn46y9yb3NV"
      }
    },
    {
      "cell_type": "code",
      "source": [
        "from sklearn.decomposition import PCA\n",
        "from sklearn.preprocessing import StandardScaler\n",
        "\n",
        "# Standardize the data\n",
        "scaler = StandardScaler()\n",
        "scaled_data = scaler.fit_transform(X_train_resampled)"
      ],
      "metadata": {
        "id": "E1Ik9-2KnF06"
      },
      "execution_count": 89,
      "outputs": []
    },
    {
      "cell_type": "markdown",
      "source": [
        "Os dados são normalizados, e em seguida eu aplico PCA em um range de n_componentes, a fim de determinar o número de features mais adequado para o problema em questão. Optei por ir em intervalos de 100 até chegar em 1500 devido ao longo tempo de execução da célula seguinte"
      ],
      "metadata": {
        "id": "oH2muoJEcJ2M"
      }
    },
    {
      "cell_type": "code",
      "source": [
        "# Initialize PCA with a range of n_components\n",
        "n_components_range = range(100, 1501, 100)  # range of 100, 200, 300, ..., 1500\n",
        "explained_variances = []\n",
        "for n_components in n_components_range:\n",
        "    pca = PCA(n_components=n_components)\n",
        "    pca.fit(scaled_data)\n",
        "    explained_variances.append(sum(pca.explained_variance_ratio_))\n",
        "    print(\"Components:\" ,n_components)"
      ],
      "metadata": {
        "colab": {
          "base_uri": "https://localhost:8080/"
        },
        "id": "Lsil8ahmo9iY",
        "outputId": "3607bb48-b949-48c9-a2b4-6a81e7d12e54"
      },
      "execution_count": 90,
      "outputs": [
        {
          "output_type": "stream",
          "name": "stdout",
          "text": [
            "Components: 100\n",
            "Components: 200\n",
            "Components: 300\n",
            "Components: 400\n",
            "Components: 500\n",
            "Components: 600\n",
            "Components: 700\n",
            "Components: 800\n",
            "Components: 900\n",
            "Components: 1000\n",
            "Components: 1100\n",
            "Components: 1200\n",
            "Components: 1300\n",
            "Components: 1400\n",
            "Components: 1500\n"
          ]
        }
      ]
    },
    {
      "cell_type": "markdown",
      "source": [
        "Aqui faço um gráfico da Variância Explicada x Número de Componentes Principais"
      ],
      "metadata": {
        "id": "DKz7WNX_dX30"
      }
    },
    {
      "cell_type": "code",
      "source": [
        "# Plot the explained variances\n",
        "plt.plot(n_components_range, explained_variances, 'bo-', linewidth=2)\n",
        "plt.xlabel('Number of Principal Components')\n",
        "plt.ylabel('Explained Variance')\n",
        "plt.title('Explained Variance vs. Number of Principal Components')\n",
        "plt.show()"
      ],
      "metadata": {
        "colab": {
          "base_uri": "https://localhost:8080/",
          "height": 472
        },
        "id": "ZwXGjGe4pPB6",
        "outputId": "4846a3ce-cf0e-47b2-f892-c8bdad42d501"
      },
      "execution_count": 91,
      "outputs": [
        {
          "output_type": "display_data",
          "data": {
            "text/plain": [
              "<Figure size 640x480 with 1 Axes>"
            ],
            "image/png": "[encoded data removed]"
          },
          "metadata": {}
        }
      ]
    },
    {
      "cell_type": "markdown",
      "source": [
        "De acordo com um artigo no que li no medium, a fim de evitar Overfitting, nosso explained variance ratio deve chegar a cerca de 0.8, ou 80%. Nesse caso, portanto, opto por usar 300 componentes, reduzindo o dataset original para 12,5% (dimensionalmente falando) de seu total, e retendo 85% da variância. Posso depois optar por alterar o número de componentes, se resultar em uma melhora em performance nos modelos"
      ],
      "metadata": {
        "id": "UZozSVvhduU8"
      }
    },
    {
      "cell_type": "code",
      "source": [
        "pca=PCA(n_components=300)\n",
        "pca.fit(scaled_data)"
      ],
      "metadata": {
        "colab": {
          "base_uri": "https://localhost:8080/",
          "height": 74
        },
        "id": "rffQJ2aytvcK",
        "outputId": "38916bab-4dd8-4951-8263-83f4da679d63"
      },
      "execution_count": 92,
      "outputs": [
        {
          "output_type": "execute_result",
          "data": {
            "text/plain": [
              "PCA(n_components=300)"
            ],
            "text/html": [
              "<style>#sk-container-id-8 {color: black;background-color: white;}#sk-container-id-8 pre{padding: 0;}#sk-container-id-8 div.sk-toggleable {background-color: white;}#sk-container-id-8 label.sk-toggleable__label {cursor: pointer;display: block;width: 100%;margin-bottom: 0;padding: 0.3em;box-sizing: border-box;text-align: center;}#sk-container-id-8 label.sk-toggleable__label-arrow:before {content: \"▸\";float: left;margin-right: 0.25em;color: #696969;}#sk-container-id-8 label.sk-toggleable__label-arrow:hover:before {color: black;}#sk-container-id-8 div.sk-estimator:hover label.sk-toggleable__label-arrow:before {color: black;}#sk-container-id-8 div.sk-toggleable__content {max-height: 0;max-width: 0;overflow: hidden;text-align: left;background-color: #f0f8ff;}#sk-container-id-8 div.sk-toggleable__content pre {margin: 0.2em;color: black;border-radius: 0.25em;background-color: #f0f8ff;}#sk-container-id-8 input.sk-toggleable__control:checked~div.sk-toggleable__content {max-height: 200px;max-width: 100%;overflow: auto;}#sk-container-id-8 input.sk-toggleable__control:checked~label.sk-toggleable__label-arrow:before {content: \"▾\";}#sk-container-id-8 div.sk-estimator input.sk-toggleable__control:checked~label.sk-toggleable__label {background-color: #d4ebff;}#sk-container-id-8 div.sk-label input.sk-toggleable__control:checked~label.sk-toggleable__label {background-color: #d4ebff;}#sk-container-id-8 input.sk-hidden--visually {border: 0;clip: rect(1px 1px 1px 1px);clip: rect(1px, 1px, 1px, 1px);height: 1px;margin: -1px;overflow: hidden;padding: 0;position: absolute;width: 1px;}#sk-container-id-8 div.sk-estimator {font-family: monospace;background-color: #f0f8ff;border: 1px dotted black;border-radius: 0.25em;box-sizing: border-box;margin-bottom: 0.5em;}#sk-container-id-8 div.sk-estimator:hover {background-color: #d4ebff;}#sk-container-id-8 div.sk-parallel-item::after {content: \"\";width: 100%;border-bottom: 1px solid gray;flex-grow: 1;}#sk-container-id-8 div.sk-label:hover label.sk-toggleable__label {background-color: #d4ebff;}#sk-container-id-8 div.sk-serial::before {content: \"\";position: absolute;border-left: 1px solid gray;box-sizing: border-box;top: 0;bottom: 0;left: 50%;z-index: 0;}#sk-container-id-8 div.sk-serial {display: flex;flex-direction: column;align-items: center;background-color: white;padding-right: 0.2em;padding-left: 0.2em;position: relative;}#sk-container-id-8 div.sk-item {position: relative;z-index: 1;}#sk-container-id-8 div.sk-parallel {display: flex;align-items: stretch;justify-content: center;background-color: white;position: relative;}#sk-container-id-8 div.sk-item::before, #sk-container-id-8 div.sk-parallel-item::before {content: \"\";position: absolute;border-left: 1px solid gray;box-sizing: border-box;top: 0;bottom: 0;left: 50%;z-index: -1;}#sk-container-id-8 div.sk-parallel-item {display: flex;flex-direction: column;z-index: 1;position: relative;background-color: white;}#sk-container-id-8 div.sk-parallel-item:first-child::after {align-self: flex-end;width: 50%;}#sk-container-id-8 div.sk-parallel-item:last-child::after {align-self: flex-start;width: 50%;}#sk-container-id-8 div.sk-parallel-item:only-child::after {width: 0;}#sk-container-id-8 div.sk-dashed-wrapped {border: 1px dashed gray;margin: 0 0.4em 0.5em 0.4em;box-sizing: border-box;padding-bottom: 0.4em;background-color: white;}#sk-container-id-8 div.sk-label label {font-family: monospace;font-weight: bold;display: inline-block;line-height: 1.2em;}#sk-container-id-8 div.sk-label-container {text-align: center;}#sk-container-id-8 div.sk-container {/* jupyter's `normalize.less` sets `[hidden] { display: none; }` but bootstrap.min.css set `[hidden] { display: none !important; }` so we also need the `!important` here to be able to override the default hidden behavior on the sphinx rendered scikit-learn.org. See: https://github.com/scikit-learn/scikit-learn/issues/21755 */display: inline-block !important;position: relative;}#sk-container-id-8 div.sk-text-repr-fallback {display: none;}</style><div id=\"sk-container-id-8\" class=\"sk-top-container\"><div class=\"sk-text-repr-fallback\"><pre>PCA(n_components=300)</pre><b>In a Jupyter environment, please rerun this cell to show the HTML representation or trust the notebook. <br />On GitHub, the HTML representation is unable to render, please try loading this page with nbviewer.org.</b></div><div class=\"sk-container\" hidden><div class=\"sk-item\"><div class=\"sk-estimator sk-toggleable\"><input class=\"sk-toggleable__control sk-hidden--visually\" id=\"sk-estimator-id-8\" type=\"checkbox\" checked><label for=\"sk-estimator-id-8\" class=\"sk-toggleable__label sk-toggleable__label-arrow\">PCA</label><div class=\"sk-toggleable__content\"><pre>PCA(n_components=300)</pre></div></div></div></div></div>"
            ]
          },
          "metadata": {},
          "execution_count": 92
        }
      ]
    },
    {
      "cell_type": "code",
      "source": [
        "np.sum(pca.explained_variance_ratio_)"
      ],
      "metadata": {
        "colab": {
          "base_uri": "https://localhost:8080/"
        },
        "id": "V1MGQzvbumua",
        "outputId": "e11c87f7-878b-43a0-a1be-b85227045be1"
      },
      "execution_count": 93,
      "outputs": [
        {
          "output_type": "execute_result",
          "data": {
            "text/plain": [
              "0.847151158598568"
            ]
          },
          "metadata": {},
          "execution_count": 93
        }
      ]
    },
    {
      "cell_type": "markdown",
      "source": [
        "Com os componentes escolhidos, aplico PCA nos dataframes de treino e teste"
      ],
      "metadata": {
        "id": "e4GBvkSZfLP2"
      }
    },
    {
      "cell_type": "code",
      "source": [
        "X_train_pca = pca.transform(X_train_resampled)\n",
        "\n",
        "X_test_pca = pca.transform(X_test)\n",
        "\n",
        "print(f\"Shape of X_train_pca: {X_train_pca.shape}\")\n",
        "print(f\"Shape of X_test_pca: {X_test_pca.shape}\")\n",
        "\n",
        "print(f\"Shape of y_train_resampled: {y_train_resampled.shape}\")\n",
        "print(f\"Shape of y_test: {y_test.shape}\")"
      ],
      "metadata": {
        "colab": {
          "base_uri": "https://localhost:8080/"
        },
        "id": "A359xY2fLljg",
        "outputId": "ee3ff375-d67f-4c4c-a0e2-a1147f6d7155"
      },
      "execution_count": 94,
      "outputs": [
        {
          "output_type": "stream",
          "name": "stderr",
          "text": [
            "/usr/local/lib/python3.9/dist-packages/sklearn/base.py:432: UserWarning: X has feature names, but PCA was fitted without feature names\n",
            "  warnings.warn(\n",
            "/usr/local/lib/python3.9/dist-packages/sklearn/base.py:432: UserWarning: X has feature names, but PCA was fitted without feature names\n",
            "  warnings.warn(\n"
          ]
        },
        {
          "output_type": "stream",
          "name": "stdout",
          "text": [
            "Shape of X_train_pca: (17230, 300)\n",
            "Shape of X_test_pca: (4804, 300)\n",
            "Shape of y_train_resampled: (17230,)\n",
            "Shape of y_test: (4804,)\n"
          ]
        }
      ]
    },
    {
      "cell_type": "markdown",
      "source": [
        "Por fim normalizo os subsets de treino e teste por meio do scaler, e, a fim de facilitar a minha vida depois, volto a utilizar os seus nomes padrão."
      ],
      "metadata": {
        "id": "Rj9xMabhfWzV"
      }
    },
    {
      "cell_type": "code",
      "source": [
        "X_train = scaler.fit_transform(X_train_pca)\n",
        "X_test = scaler.fit_transform(X_test_pca)\n",
        "y_train = y_train_resampled"
      ],
      "metadata": {
        "id": "gvofUP9pNjLp"
      },
      "execution_count": 95,
      "outputs": []
    }
  ]
}